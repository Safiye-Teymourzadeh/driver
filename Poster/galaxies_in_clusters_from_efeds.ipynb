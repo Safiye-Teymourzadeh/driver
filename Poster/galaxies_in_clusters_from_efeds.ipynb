{
 "cells": [
  {
   "cell_type": "code",
   "execution_count": null,
   "metadata": {
    "collapsed": true,
    "pycharm": {
     "name": "#%%\n",
     "is_executing": true
    }
   },
   "outputs": [],
   "source": [
    "import numpy as np\n",
    "import pandas as pd\n",
    "import astropy.io.fits as fits\n",
    "import healpy as hp\n",
    "from scipy import integrate\n",
    "import matplotlib.pyplot as plt\n",
    "from astropy.cosmology import Planck15 as cosmo\n",
    "from scipy.interpolate import interp1d\n",
    "from scipy.optimize import curve_fit\n",
    "#from completeness import create_completeness_dataframe"
   ]
  },
  {
   "cell_type": "code",
   "execution_count": null,
   "outputs": [],
   "source": [
    "# Loading the data\n",
    "galaxy_catalog_raw = fits.open('/home/farnoosh/Nextcloud/Master_Thesis_all/codes/data/GAMA/merged/StellarMass-gkvScience/mergedStellarMass-gkvScience')[1].data    # galaxies\n",
    "efeds_raw = fits.open('/home/farnoosh/Nextcloud/Master_Thesis_all/codes/data/eFEDS/Mathias_Klug/efeds_members.fit')[1].data    # clusters"
   ],
   "metadata": {
    "collapsed": false,
    "pycharm": {
     "name": "#%%\n"
    }
   }
  },
  {
   "cell_type": "code",
   "execution_count": null,
   "outputs": [],
   "source": [
    "# Masks\n",
    "cluster_mask =(\n",
    "            ~np.isnan(efeds_raw['VDISP'])   # mask clusters which doesn't have VDISP values\n",
    " )\n",
    "\n",
    "\n",
    "galaxy_mask = (\n",
    "         (galaxy_catalog_raw['uberclass'] == 1 ) & #galaxy\n",
    "         (galaxy_catalog_raw['duplicate'] == False) &\n",
    "         (galaxy_catalog_raw['mask'] == False) &\n",
    "         (galaxy_catalog_raw['NQ'] > 2) &\n",
    "         (galaxy_catalog_raw['SC'] > 7) &\n",
    "         (galaxy_catalog_raw['mstar'] > 0) &\n",
    "         (galaxy_catalog_raw['RAcen'] > 126.5) &\n",
    "         (galaxy_catalog_raw['RAcen'] < 145.1) &\n",
    "         (galaxy_catalog_raw['Deccen'] > -2.6) &\n",
    "         (galaxy_catalog_raw['Deccen'] < 5.8) &\n",
    "         (galaxy_catalog_raw['Z'] < 1.31) &\n",
    "         (galaxy_catalog_raw['starmask'] == False)\n",
    ")\n",
    "\n",
    "galaxy_catalog = galaxy_catalog_raw[galaxy_mask]\n",
    "efeds_catalog = efeds_raw[cluster_mask]\n",
    "print('number of the galaxies after masking: ',len(galaxy_catalog))\n",
    "print('number of the clusters after masking: ', len(efeds_catalog))"
   ],
   "metadata": {
    "collapsed": false,
    "pycharm": {
     "name": "#%%\n"
    }
   }
  },
  {
   "cell_type": "code",
   "execution_count": null,
   "outputs": [],
   "source": [
    "# Constants\n",
    "H0 = 70\n",
    "c = 3e5\n",
    "arcmin_to_rad = np.pi / 180 / 60"
   ],
   "metadata": {
    "collapsed": false,
    "pycharm": {
     "name": "#%%\n"
    }
   }
  },
  {
   "cell_type": "code",
   "execution_count": 218,
   "outputs": [],
   "source": [
    "# Functions\n",
    "def distance_from_redshift(z):\n",
    "    return c * z / H0\n",
    "\n",
    "def cluster_volume(cluster_radius_Mpc):\n",
    "    return (4/3) * np.pi * cluster_radius_Mpc**3\n",
    "\n",
    "def redshift_comparison(cluster_z, cluster_Velocity_Dispersion, galaxy_z, threshold_factor=1):\n",
    "    delta_z = (cluster_Velocity_Dispersion / c) * threshold_factor\n",
    "    return np.abs(galaxy_z - cluster_z) <= delta_z\n",
    "\n",
    "def add_z_passed_galaxies_column(cluster_df, galaxy_df, threshold_factor=1):\n",
    "    def redshift_comparison(cluster_z, cluster_Velocity_Dispersion, galaxy_z):\n",
    "        delta_z = (cluster_Velocity_Dispersion / c) * threshold_factor\n",
    "        return np.abs(galaxy_z - cluster_z) <= delta_z\n",
    "\n",
    "    z_passed_galaxies_list = []\n",
    "    num_passed_galaxies_list = []\n",
    "\n",
    "    for i, cluster in cluster_df.iterrows():\n",
    "        passed_galaxies_cluster = []\n",
    "        for j, galaxy in galaxy_df.iterrows():\n",
    "            if redshift_comparison(cluster['z'], cluster['cluster_Velocity_Dispersion'], galaxy['z']):\n",
    "                passed_galaxies_cluster.append(galaxy['g_ID'])\n",
    "        z_passed_galaxies_list.append(passed_galaxies_cluster)\n",
    "        num_passed_galaxies_list.append(len(passed_galaxies_cluster))\n",
    "\n",
    "    cluster_df['z_passed_galaxies'] = z_passed_galaxies_list\n",
    "    cluster_df['num_passed_galaxies'] = num_passed_galaxies_list\n",
    "\n",
    "    return cluster_df\n",
    "\n",
    "def angular_separation(ra1, dec1, ra2, dec2):\n",
    "    ra1, dec1, ra2, dec2 = map(np.radians, [ra1, dec1, ra2, dec2])\n",
    "    delta_RA = ra2 - ra1\n",
    "    delta_DEC = dec2 - dec1\n",
    "    w = np.sin(delta_DEC/2.0)**2 + np.cos(dec1) * np.cos(dec2) * np.sin(delta_RA/2.0)**2\n",
    "    return 2 * np.arcsin(np.sqrt(w))\n",
    "\n",
    "def projected_distance(cluster_ra, cluster_dec, cluster_z, galaxy_ra, galaxy_dec):\n",
    "    angular_dist = angular_separation(cluster_ra, cluster_dec, galaxy_ra, galaxy_dec)\n",
    "    D_A = cosmo.angular_diameter_distance(cluster_z).value\n",
    "    projected_distance_Mpc = D_A * angular_dist\n",
    "    return projected_distance_Mpc\n",
    "\n",
    "def is_galaxy_in_cluster(galaxy_ra, galaxy_dec, galaxy_z, cluster_ra, cluster_dec, cluster_z, cluster_radius_Mpc):\n",
    "    projected_dist_Mpc = projected_distance(cluster_ra, cluster_dec, cluster_z, galaxy_ra, galaxy_dec)\n",
    "    return projected_dist_Mpc <= cluster_radius_Mpc\n",
    "\n",
    "def add_position_passed_galaxies_column(cluster_df_updated, galaxy_df):\n",
    "    position_passed_galaxies_list = []\n",
    "    num_position_passed_galaxies_list = []\n",
    "\n",
    "    galaxy_df['cluster_ID'] = None\n",
    "\n",
    "    for i, cluster in cluster_df_updated.iterrows():\n",
    "        z_passed_galaxies = cluster['z_passed_galaxies']\n",
    "        position_passed_galaxies_cluster = []\n",
    "\n",
    "        for g_id in z_passed_galaxies:\n",
    "            galaxy = galaxy_df[galaxy_df['g_ID'] == g_id].iloc[0]\n",
    "\n",
    "            if is_galaxy_in_cluster(galaxy['RA'], galaxy['DEC'], galaxy['z'], cluster['RA'], cluster['DEC'], cluster['z'], cluster['cluster_radius_Mpc']):\n",
    "                position_passed_galaxies_cluster.append(galaxy['g_ID'])\n",
    "                galaxy_df.loc[galaxy_df['g_ID'] == g_id, 'cluster_ID'] = cluster['c_ID']\n",
    "\n",
    "        position_passed_galaxies_list.append(position_passed_galaxies_cluster)\n",
    "        num_position_passed_galaxies_list.append(len(position_passed_galaxies_cluster))\n",
    "\n",
    "    cluster_df_updated['position_passed_galaxies'] = position_passed_galaxies_list\n",
    "    cluster_df_updated['num_position_passed_galaxies'] = num_position_passed_galaxies_list\n",
    "    cluster_df_updated['galaxies_within'] = position_passed_galaxies_list  # Add this line\n",
    "\n",
    "    return cluster_df_updated, galaxy_df"
   ],
   "metadata": {
    "collapsed": false
   }
  },
  {
   "cell_type": "code",
   "execution_count": 219,
   "outputs": [],
   "source": [
    "# Dataframes\n",
    "cluster_df = pd.DataFrame({\n",
    "    'c_ID': efeds_catalog['ID-SRC'].byteswap().newbyteorder(),\n",
    "    'c_NAME': efeds_catalog['NAME'].byteswap().newbyteorder(),\n",
    "    'RA': efeds_catalog['RA'].byteswap().newbyteorder(),\n",
    "    'DEC': efeds_catalog['DEC'].byteswap().newbyteorder(),\n",
    "    'z': efeds_catalog['ZBEST'].byteswap().newbyteorder(),\n",
    "    'distance_Mpc': distance_from_redshift(efeds_catalog['ZBEST'].byteswap().newbyteorder()),\n",
    "    'cluster_radius_Mpc': efeds_catalog['R_LAMBDA'].byteswap().newbyteorder(),\n",
    "    'cluster_volume_Mpc3': cluster_volume(efeds_catalog['R_LAMBDA'].byteswap().newbyteorder()),\n",
    "    'cluster_Velocity_Dispersion': efeds_catalog['VDISP'].byteswap().newbyteorder()\n",
    "})\n",
    "\n",
    "\n",
    "galaxy_df = pd.DataFrame({\n",
    "    'g_ID': galaxy_catalog['uberID'].byteswap().newbyteorder(),\n",
    "    'RA': galaxy_catalog['RAcen'].byteswap().newbyteorder(),\n",
    "    'DEC': galaxy_catalog['Deccen'].byteswap().newbyteorder(),\n",
    "    'z': galaxy_catalog['Z'].byteswap().newbyteorder()\n",
    "})"
   ],
   "metadata": {
    "collapsed": false,
    "pycharm": {
     "name": "#%%\n"
    }
   }
  },
  {
   "cell_type": "code",
   "execution_count": null,
   "outputs": [],
   "source": [
    "# Result of functions and updating the dataframes\n",
    "cluster_df_updated = add_z_passed_galaxies_column(cluster_df, galaxy_df)\n",
    "cluster_df_updated, galaxy_df_updated = add_position_passed_galaxies_column(cluster_df_updated, galaxy_df)"
   ],
   "metadata": {
    "collapsed": false,
    "pycharm": {
     "name": "#%%\n"
    }
   }
  },
  {
   "cell_type": "code",
   "execution_count": 224,
   "outputs": [
    {
     "name": "stdout",
     "output_type": "stream",
     "text": [
      "                g_ID          RA       DEC        z  cluster_ID  \\\n",
      "0    133990088904009  134.499717 -0.705824  0.24617       11717   \n",
      "1    140000391308781  140.214904  0.743549  0.15698        6459   \n",
      "2    140000390908755  140.215330  0.741024  0.15684        6459   \n",
      "3    132000006003287  132.577598  0.226102  0.19730        1023   \n",
      "4    130990177506182  131.416193 -0.501206  0.15686        2214   \n",
      "..               ...         ...       ...      ...         ...   \n",
      "277  131991226006338  131.428884 -0.486504  0.15821        2214   \n",
      "278  136991114306938  136.534038 -0.430051  0.29864        9359   \n",
      "279  136991087411411  136.559441 -0.008810  0.19930        3259   \n",
      "280  130990148605975  131.443428 -0.520688  0.15834        2214   \n",
      "281  130990149606322  131.442491 -0.487985  0.15737        2214   \n",
      "\n",
      "                    c_NAME  \n",
      "0    eFEDSJ085801.1-004103  \n",
      "1    eFEDSJ092105.0+004452  \n",
      "2    eFEDSJ092105.0+004452  \n",
      "3    eFEDSJ085027.8+001503  \n",
      "4    eFEDSJ084544.3-002914  \n",
      "..                     ...  \n",
      "277  eFEDSJ084544.3-002914  \n",
      "278  eFEDSJ090600.3-002521  \n",
      "279  eFEDSJ090601.0+000055  \n",
      "280  eFEDSJ084544.3-002914  \n",
      "281  eFEDSJ084544.3-002914  \n",
      "\n",
      "[282 rows x 6 columns]\n"
     ]
    }
   ],
   "source": [
    "# Updating Galaxy dataframes\n",
    "\n",
    "# Remove rows where 'cluster_ID' is 'None'\n",
    "galaxy_df_updated = galaxy_df_updated[galaxy_df_updated['cluster_ID'].notna()]\n",
    "\n",
    "# Reset the index to clean index after the rows are removed\n",
    "galaxy_df_updated.reset_index(drop=True, inplace=True)\n",
    "\n",
    "# Convert cluster_ID to the same dtype as c_ID for proper merging\n",
    "galaxy_df_updated['cluster_ID'] = galaxy_df_updated['cluster_ID'].astype(cluster_df['c_ID'].dtype)\n",
    "\n",
    "# Drop any existing 'c_NAME' columns to avoid conflicts during merge\n",
    "columns_to_drop = [col for col in galaxy_df_updated.columns if 'c_NAME' in col]\n",
    "galaxy_df_updated.drop(columns=columns_to_drop, inplace=True)\n",
    "\n",
    "# Merge the DataFrame to add the cluster NAME\n",
    "galaxy_df_updated = galaxy_df_updated.merge(cluster_df[['c_ID', 'c_NAME']], left_on='cluster_ID', right_on='c_ID', how='left')\n",
    "\n",
    "# Drop the extra 'c_ID' column from the merge\n",
    "galaxy_df_updated.drop(columns=['c_ID'], inplace=True)\n",
    "\n",
    "# Display the updated DataFrame\n",
    "print(galaxy_df_updated)\n"
   ],
   "metadata": {
    "collapsed": false
   }
  },
  {
   "cell_type": "code",
   "execution_count": 225,
   "outputs": [
    {
     "name": "stdout",
     "output_type": "stream",
     "text": [
      "      c_ID                 c_NAME         RA      DEC       z  distance_Mpc  \\\n",
      "0     4800  eFEDSJ082808.7-001003  127.03664 -0.16772  0.0762    326.571429   \n",
      "1     7991  eFEDSJ082840.6-000500  127.16920 -0.08355  0.3197   1370.142857   \n",
      "2     5601  eFEDSJ083110.5+015616  127.79401  1.93784  0.4195   1797.857143   \n",
      "3     2659  eFEDSJ083125.9+015533  127.85804  1.92590  0.6845   2933.571429   \n",
      "4     3725  eFEDSJ083137.9+004632  127.90807  0.77581  0.3023   1295.571429   \n",
      "..     ...                    ...        ...      ...     ...           ...   \n",
      "277   1761  eFEDSJ093546.3-000115  143.94326 -0.02110  0.3497   1498.714286   \n",
      "278  11748  eFEDSJ093707.4+034831  144.28102  3.80886  0.2709   1161.000000   \n",
      "279     38  eFEDSJ093712.8+031651  144.30357  3.28104  0.2474   1060.285714   \n",
      "280  10322  eFEDSJ093830.5+041523  144.62717  4.25640  0.2622   1123.714286   \n",
      "281   1594  eFEDSJ093938.3+042218  144.90960  4.37172  0.3687   1580.142857   \n",
      "\n",
      "     cluster_radius_Mpc  cluster_volume_Mpc3  cluster_Velocity_Dispersion  \\\n",
      "0              0.664964             1.231640                    24.474377   \n",
      "1              0.598947             0.900021                    18.025137   \n",
      "2              0.924255             3.307227                  1239.911120   \n",
      "3              0.992066             4.089873                  2144.616872   \n",
      "4              0.698281             1.426195                   263.304854   \n",
      "..                  ...                  ...                          ...   \n",
      "277            0.810680             2.231704                   801.231382   \n",
      "278            0.788915             2.056743                   292.381823   \n",
      "279            0.681306             1.324693                   218.572810   \n",
      "280            0.672590             1.274498                   285.277474   \n",
      "281            0.783890             2.017686                  1630.714411   \n",
      "\n",
      "                                     z_passed_galaxies  num_passed_galaxies  \\\n",
      "0    [133020133402884.0, 131011147001081.0, 1310206...                   10   \n",
      "1    [136020848205211.0, 135000925303361.0, 1409809...                   17   \n",
      "2    [136020587709399.0, 132020434300677.0, 1360208...                  154   \n",
      "3                                  [133001199601760.0]                    1   \n",
      "4    [136020623210295.0, 132020383300096.0, 1360207...                  101   \n",
      "..                                                 ...                  ...   \n",
      "277  [129980062202315.0, 130981056200899.0, 1370209...                  262   \n",
      "278  [130981037204669.0, 132981201009816.0, 1300007...                  361   \n",
      "279  [139000930807395.0, 131991057603236.0, 1319910...                  149   \n",
      "280  [137000579601474.0, 139000855801170.0, 1390008...                  278   \n",
      "281  [129010591808255.0, 139021190111111.0, 1339802...                  351   \n",
      "\n",
      "    position_passed_galaxies  num_position_passed_galaxies galaxies_within  \n",
      "0                         []                             0              []  \n",
      "1                         []                             0              []  \n",
      "2                         []                             0              []  \n",
      "3                         []                             0              []  \n",
      "4                         []                             0              []  \n",
      "..                       ...                           ...             ...  \n",
      "277                       []                             0              []  \n",
      "278                       []                             0              []  \n",
      "279                       []                             0              []  \n",
      "280                       []                             0              []  \n",
      "281                       []                             0              []  \n",
      "\n",
      "[282 rows x 14 columns]\n"
     ]
    }
   ],
   "source": [
    "print(cluster_df_updated)"
   ],
   "metadata": {
    "collapsed": false
   }
  },
  {
   "cell_type": "code",
   "execution_count": 217,
   "outputs": [],
   "source": [],
   "metadata": {
    "collapsed": false
   }
  }
 ],
 "metadata": {
  "kernelspec": {
   "display_name": "Python 3",
   "language": "python",
   "name": "python3"
  },
  "language_info": {
   "codemirror_mode": {
    "name": "ipython",
    "version": 2
   },
   "file_extension": ".py",
   "mimetype": "text/x-python",
   "name": "python",
   "nbconvert_exporter": "python",
   "pygments_lexer": "ipython2",
   "version": "2.7.6"
  }
 },
 "nbformat": 4,
 "nbformat_minor": 0
}
