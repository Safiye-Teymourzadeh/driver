{
 "cells": [
  {
   "cell_type": "code",
   "execution_count": 127,
   "metadata": {
    "collapsed": true
   },
   "outputs": [],
   "source": [
    "import numpy as np\n",
    "import pandas as pd\n",
    "import astropy.io.fits as fits\n",
    "import healpy as hp\n",
    "from scipy import integrate\n",
    "import matplotlib.pyplot as plt\n",
    "from astropy.cosmology import Planck15 as cosmo\n",
    "from scipy.interpolate import interp1d\n",
    "from scipy.optimize import curve_fit\n",
    "#from completeness import create_completeness_dataframe"
   ]
  },
  {
   "cell_type": "code",
   "execution_count": 128,
   "outputs": [],
   "source": [
    "# Loading the data\n",
    "galaxy_catalog_raw = fits.open('/home/farnoosh/Nextcloud/Master_Thesis_all/codes/data/GAMA/merged/StellarMass-gkvScience/mergedStellarMass-gkvScience')[1].data    # galaxies\n",
    "efeds_raw = fits.open('/home/farnoosh/Nextcloud/Master_Thesis_all/codes/data/eFEDS/Mathias_Klug/efeds_members.fit')[1].data    # clusters"
   ],
   "metadata": {
    "collapsed": false
   }
  },
  {
   "cell_type": "code",
   "execution_count": 129,
   "outputs": [
    {
     "name": "stdout",
     "output_type": "stream",
     "text": [
      "number of the galaxies after masking:  36801\n",
      "number of the clusters after masking:  282\n"
     ]
    }
   ],
   "source": [
    "# Masks\n",
    "cluster_mask =(\n",
    "            ~np.isnan(efeds_raw['VDISP'])   # mask clusters which doesn't have VDISP values\n",
    " )\n",
    "\n",
    "\n",
    "galaxy_mask = (\n",
    "         (galaxy_catalog_raw['uberclass'] == 1 ) & #galaxy\n",
    "         (galaxy_catalog_raw['duplicate'] == False) &\n",
    "         (galaxy_catalog_raw['mask'] == False) &\n",
    "         (galaxy_catalog_raw['NQ'] > 2) &\n",
    "         (galaxy_catalog_raw['SC'] > 7) &\n",
    "         (galaxy_catalog_raw['mstar'] > 0) &\n",
    "         (galaxy_catalog_raw['RAcen'] > 126.5) &\n",
    "         (galaxy_catalog_raw['RAcen'] < 145.1) &\n",
    "         (galaxy_catalog_raw['Deccen'] > -2.6) &\n",
    "         (galaxy_catalog_raw['Deccen'] < 5.8) &\n",
    "         (galaxy_catalog_raw['Z'] < 1.31) &\n",
    "         (galaxy_catalog_raw['starmask'] == False)\n",
    ")\n",
    "\n",
    "galaxy_catalog = galaxy_catalog_raw[galaxy_mask]\n",
    "efeds_catalog = efeds_raw[cluster_mask]\n",
    "print('number of the galaxies after masking: ',len(galaxy_catalog))\n",
    "print('number of the clusters after masking: ', len(efeds_catalog))"
   ],
   "metadata": {
    "collapsed": false
   }
  },
  {
   "cell_type": "code",
   "execution_count": 130,
   "outputs": [],
   "source": [
    "# Constants\n",
    "H0 = 70\n",
    "c = 3e5\n",
    "arcmin_to_rad = np.pi / 180 / 60"
   ],
   "metadata": {
    "collapsed": false
   }
  },
  {
   "cell_type": "code",
   "execution_count": 135,
   "outputs": [],
   "source": [
    "# Functions\n",
    "def distance_from_redshift(z):\n",
    "    return c * z / H0\n",
    "\n",
    "def cluster_volume(cluster_radius_Mpc):\n",
    "    return (4/3) * np.pi * cluster_radius_Mpc**3\n",
    "\n",
    "def redshift_comparison(cluster_z, cluster_Velocity_Dispersion, galaxy_z, threshold_factor=1):\n",
    "    delta_z = (cluster_Velocity_Dispersion / c) * threshold_factor\n",
    "    return np.abs(galaxy_z - cluster_z) <= delta_z\n",
    "\n",
    "def add_z_passed_galaxies_column(cluster_df, galaxy_df, threshold_factor=1):\n",
    "    \"\"\"\n",
    "    Adds a column to cluster_df containing the IDs of galaxies that pass the redshift comparison criteria for each cluster,\n",
    "    and another column showing the number of galaxies that passed the criteria for each cluster.\n",
    "\n",
    "    Parameters:\n",
    "    - cluster_df (pd.DataFrame): DataFrame containing cluster information.\n",
    "    - galaxy_df (pd.DataFrame): DataFrame containing galaxy information.\n",
    "    - threshold_factor (float): Factor to adjust the redshift comparison criteria.\n",
    "\n",
    "    Returns:\n",
    "    - cluster_df (pd.DataFrame): Updated DataFrame with the 'z_passed_galaxies' and 'num_passed_galaxies' columns.\n",
    "    \"\"\"\n",
    "\n",
    "    def redshift_comparison(cluster_z, cluster_Velocity_Dispersion, galaxy_z):\n",
    "        delta_z = (cluster_Velocity_Dispersion / c) * threshold_factor\n",
    "        return np.abs(galaxy_z - cluster_z) <= delta_z\n",
    "\n",
    "    # Create an empty list to store the IDs of galaxies that pass the criteria for each cluster\n",
    "    z_passed_galaxies_list = []\n",
    "    num_passed_galaxies_list = []\n",
    "\n",
    "    # Iterate over each cluster\n",
    "    for i, cluster in cluster_df.iterrows():\n",
    "        # Get the delta_z for the current cluster\n",
    "        delta_z_cluster = (cluster['cluster_Velocity_Dispersion'] / c) * threshold_factor\n",
    "\n",
    "        # Create an empty list to store the IDs of galaxies that pass the criteria for the current cluster\n",
    "        passed_galaxies_cluster = []\n",
    "\n",
    "        # Iterate over each galaxy\n",
    "        for j, galaxy in galaxy_df.iterrows():\n",
    "            # Check if the galaxy passes the redshift comparison criteria for the current cluster\n",
    "            if redshift_comparison(cluster['z'], cluster['cluster_Velocity_Dispersion'], galaxy['z']):\n",
    "                # Add the ID of the galaxy to the list\n",
    "                passed_galaxies_cluster.append(galaxy['g_ID'])\n",
    "\n",
    "        # Add the list of IDs to the z_passed_galaxies_list\n",
    "        z_passed_galaxies_list.append(passed_galaxies_cluster)\n",
    "        num_passed_galaxies_list.append(len(passed_galaxies_cluster))\n",
    "\n",
    "    # Add new columns to cluster_df with the list of IDs of galaxies that passed the criteria\n",
    "    cluster_df['z_passed_galaxies'] = z_passed_galaxies_list\n",
    "    cluster_df['num_passed_galaxies'] = num_passed_galaxies_list\n",
    "\n",
    "    return cluster_df\n",
    "\n",
    "\n",
    "def angular_separation(ra1, dec1, ra2, dec2):\n",
    "    ra1, dec1, ra2, dec2 = map(np.radians, [ra1, dec1, ra2, dec2])\n",
    "    delta_RA = ra2 - ra1\n",
    "    delta_DEC = dec2 - dec1\n",
    "    w = np.sin(delta_DEC/2.0)**2 + np.cos(dec1) * np.cos(dec2) * np.sin(delta_RA/2.0)**2\n",
    "    return 2 * np.arcsin(np.sqrt(w)) # in degrees\n",
    "\n",
    "def projected_distance(cluster_ra, cluster_dec, cluster_z, galaxy_ra, galaxy_dec):\n",
    "    angular_dist = angular_separation(cluster_ra, cluster_dec, galaxy_ra, galaxy_dec)   # in degrees\n",
    "    angular_distance_radian = np.radians(angular_dist)  # in Radian\n",
    "    D_A = cosmo.angular_diameter_distance(cluster_z).value\n",
    "    projected_distance_Mpc = D_A * angular_distance_radian\n",
    "    return projected_distance_Mpc\n",
    "\n",
    "\n",
    "# def is_galaxy_in_cluster(galaxy_ra, galaxy_dec, galaxy_z, cluster_ra, cluster_dec, cluster_z, cluster_radius_Mpc):\n",
    "#     projected_dist_Mpc = projected_distance(cluster_ra, cluster_dec, cluster_z, galaxy_ra, galaxy_dec)\n",
    "#     if projected_dist_Mpc <= cluster_radius_Mpc:\n",
    "#         if redshift_comparison(cluster_z, 0, galaxy_z):\n",
    "#             return True\n",
    "#     return False\n",
    "#\n",
    "# def apply_redshift_mask(cluster_df, galaxy_df):\n",
    "#     galaxy_within_cluster_mask = np.zeros(len(galaxy_df), dtype=bool)\n",
    "#     for i, galaxy in galaxy_df.iterrows():\n",
    "#         for j, cluster in cluster_df.iterrows():\n",
    "#             if is_galaxy_in_cluster(galaxy['RA'], galaxy['DEC'], galaxy['z'],\n",
    "#                                     cluster['RA'], cluster['DEC'], cluster['z'], cluster['cluster_radius_Mpc']):\n",
    "#                 galaxy_within_cluster_mask[i] = True\n",
    "#                 break  # Once a galaxy is found within a cluster, move to the next galaxy\n",
    "#     return galaxy_df[galaxy_within_cluster_mask]"
   ],
   "metadata": {
    "collapsed": false
   }
  },
  {
   "cell_type": "code",
   "execution_count": 136,
   "outputs": [],
   "source": [
    "# Dataframe for clusters\n",
    "cluster_df = pd.DataFrame()\n",
    "cluster_df['c_ID'] = efeds_catalog['ID-SRC'].byteswap().newbyteorder()\n",
    "cluster_df['RA'] = (efeds_catalog['RA']).byteswap().newbyteorder()    # degrees\n",
    "cluster_df['DEC'] = (efeds_catalog['DEC']).byteswap().newbyteorder()   # degrees\n",
    "cluster_df['z'] = efeds_catalog['ZBEST'].byteswap().newbyteorder()\n",
    "cluster_df['distance_Mpc'] = distance_from_redshift(cluster_df['z'])\n",
    "cluster_df['cluster_radius_Mpc'] = efeds_catalog['R_LAMBDA']\n",
    "cluster_df['cluster_volume_Mpc3'] = cluster_volume(cluster_df['cluster_radius_Mpc'])\n",
    "cluster_df['cluster_Velocity_Dispersion'] = efeds_catalog['VDISP']  # (Km/s)"
   ],
   "metadata": {
    "collapsed": false
   }
  },
  {
   "cell_type": "code",
   "execution_count": 137,
   "outputs": [],
   "source": [
    "# Dataframe for galaxies\n",
    "galaxy_df = pd.DataFrame()\n",
    "galaxy_df['g_ID'] = galaxy_catalog['uberID'].byteswap().newbyteorder()\n",
    "galaxy_df['RA'] = galaxy_catalog['RAcen'].byteswap().newbyteorder()  #degrees\n",
    "galaxy_df['DEC'] = galaxy_catalog['Deccen'].byteswap().newbyteorder()    #degrees\n",
    "galaxy_df['z'] = galaxy_catalog['Z'].byteswap().newbyteorder()"
   ],
   "metadata": {
    "collapsed": false
   }
  },
  {
   "cell_type": "code",
   "execution_count": 138,
   "outputs": [
    {
     "name": "stdout",
     "output_type": "stream",
     "text": [
      "      c_ID         RA      DEC       z  distance_Mpc  cluster_radius_Mpc  \\\n",
      "0     4800  127.03664 -0.16772  0.0762    326.571429            0.664964   \n",
      "1     7991  127.16920 -0.08355  0.3197   1370.142857            0.598947   \n",
      "2     5601  127.79401  1.93784  0.4195   1797.857143            0.924255   \n",
      "3     2659  127.85804  1.92590  0.6845   2933.571429            0.992066   \n",
      "4     3725  127.90807  0.77581  0.3023   1295.571429            0.698281   \n",
      "..     ...        ...      ...     ...           ...                 ...   \n",
      "277   1761  143.94326 -0.02110  0.3497   1498.714286            0.810680   \n",
      "278  11748  144.28102  3.80886  0.2709   1161.000000            0.788915   \n",
      "279     38  144.30357  3.28104  0.2474   1060.285714            0.681306   \n",
      "280  10322  144.62717  4.25640  0.2622   1123.714286            0.672590   \n",
      "281   1594  144.90960  4.37172  0.3687   1580.142857            0.783890   \n",
      "\n",
      "     cluster_volume_Mpc3  cluster_Velocity_Dispersion  \\\n",
      "0               1.231640                    24.474377   \n",
      "1               0.900021                    18.025137   \n",
      "2               3.307227                  1239.911120   \n",
      "3               4.089873                  2144.616872   \n",
      "4               1.426195                   263.304854   \n",
      "..                   ...                          ...   \n",
      "277             2.231704                   801.231382   \n",
      "278             2.056743                   292.381823   \n",
      "279             1.324693                   218.572810   \n",
      "280             1.274498                   285.277474   \n",
      "281             2.017686                  1630.714411   \n",
      "\n",
      "                                     z_passed_galaxies  num_passed_galaxies  \n",
      "0    [133020133402884.0, 131011147001081.0, 1310206...                   10  \n",
      "1    [136020848205211.0, 135000925303361.0, 1409809...                   17  \n",
      "2    [136020587709399.0, 132020434300677.0, 1360208...                  154  \n",
      "3                                  [133001199601760.0]                    1  \n",
      "4    [136020623210295.0, 132020383300096.0, 1360207...                  101  \n",
      "..                                                 ...                  ...  \n",
      "277  [129980062202315.0, 130981056200899.0, 1370209...                  262  \n",
      "278  [130981037204669.0, 132981201009816.0, 1300007...                  361  \n",
      "279  [139000930807395.0, 131991057603236.0, 1319910...                  149  \n",
      "280  [137000579601474.0, 139000855801170.0, 1390008...                  278  \n",
      "281  [129010591808255.0, 139021190111111.0, 1339802...                  351  \n",
      "\n",
      "[282 rows x 10 columns]\n"
     ]
    }
   ],
   "source": [
    "# Call the function to add the 'z_passed_galaxies' and 'num_passed_galaxies' columns to cluster_df\n",
    "cluster_df_updated = add_z_passed_galaxies_column(cluster_df, galaxy_df)\n",
    "\n",
    "# Display the updated cluster DataFrame\n",
    "print(cluster_df_updated)"
   ],
   "metadata": {
    "collapsed": false
   }
  },
  {
   "cell_type": "code",
   "execution_count": null,
   "outputs": [],
   "source": [],
   "metadata": {
    "collapsed": false
   }
  },
  {
   "cell_type": "code",
   "execution_count": null,
   "outputs": [],
   "source": [],
   "metadata": {
    "collapsed": false
   }
  }
 ],
 "metadata": {
  "kernelspec": {
   "display_name": "Python 3",
   "language": "python",
   "name": "python3"
  },
  "language_info": {
   "codemirror_mode": {
    "name": "ipython",
    "version": 2
   },
   "file_extension": ".py",
   "mimetype": "text/x-python",
   "name": "python",
   "nbconvert_exporter": "python",
   "pygments_lexer": "ipython2",
   "version": "2.7.6"
  }
 },
 "nbformat": 4,
 "nbformat_minor": 0
}
