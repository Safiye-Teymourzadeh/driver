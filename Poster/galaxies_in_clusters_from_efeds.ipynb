{
 "cells": [
  {
   "cell_type": "code",
   "execution_count": 2,
   "metadata": {
    "collapsed": true
   },
   "outputs": [],
   "source": [
    "import numpy as np\n",
    "import pandas as pd\n",
    "import astropy.io.fits as fits\n",
    "import healpy as hp\n",
    "from scipy import integrate\n",
    "import matplotlib.pyplot as plt\n",
    "from astropy.cosmology import Planck15 as cosmo\n",
    "from scipy.interpolate import interp1d\n",
    "from scipy.optimize import curve_fit\n",
    "#from completeness import create_completeness_dataframe"
   ]
  },
  {
   "cell_type": "code",
   "execution_count": 3,
   "outputs": [],
   "source": [
    "galaxy_catalog_raw = fits.open('/home/farnoosh/Nextcloud/Master_Thesis_all/codes/data/GAMA/merged/StellarMass-gkvScience/mergedStellarMass-gkvScience')[1].data    # galaxies\n",
    "efeds_raw = fits.open('/home/farnoosh/Nextcloud/Master_Thesis_all/codes/data/eFEDS/Mathias_Klug/efeds_members.fit')[1].data    # clusters"
   ],
   "metadata": {
    "collapsed": false,
    "pycharm": {
     "name": "#%%\n"
    }
   }
  },
  {
   "cell_type": "code",
   "execution_count": null,
   "outputs": [],
   "source": [
    "galaxy_mask = (\n",
    "         (galaxy_catalog_raw['uberclass'] == 1 ) & #galaxy\n",
    "         (galaxy_catalog_raw['duplicate'] == False) &\n",
    "         (galaxy_catalog_raw['mask'] == False) &\n",
    "         (galaxy_catalog_raw['NQ'] > 2) &\n",
    "         (galaxy_catalog_raw['SC'] > 7) &\n",
    "         (galaxy_catalog_raw['mstar'] > 0) &\n",
    "         (galaxy_catalog_raw['RAcen'] > 126.5) &\n",
    "         (galaxy_catalog_raw['RAcen'] < 145.1) &\n",
    "         (galaxy_catalog_raw['Deccen'] > -2.6) &\n",
    "         (galaxy_catalog_raw['Deccen'] < 5.8) &\n",
    "         (galaxy_catalog_raw['Z'] < 1.31) &\n",
    "         (galaxy_catalog_raw['starmask'] == False)\n",
    ")\n",
    "galaxy_catalog = galaxy_catalog_raw[galaxy_mask]\n",
    "print('number of the galaxies after masking: ',len(galaxy_catalog))"
   ],
   "metadata": {
    "collapsed": false,
    "pycharm": {
     "name": "#%%\n"
    }
   }
  },
  {
   "cell_type": "code",
   "execution_count": null,
   "outputs": [],
   "source": [
    "cluster_mask =(\n",
    "            ~np.isnan(efeds_raw['VDISP'])   # mask clusters which doesn't have VDISP values\n",
    " )\n",
    "efeds_catalog = efeds_raw[cluster_mask]\n",
    "print('number of the clusters after masking: ', len(efeds_catalog))"
   ],
   "metadata": {
    "collapsed": false,
    "pycharm": {
     "name": "#%%\n"
    }
   }
  },
  {
   "cell_type": "code",
   "execution_count": null,
   "outputs": [],
   "source": [
    "H0 = 70\n",
    "c = 3e5\n",
    "arcmin_to_rad = np.pi / 180 / 60"
   ],
   "metadata": {
    "collapsed": false,
    "pycharm": {
     "name": "#%%\n"
    }
   }
  },
  {
   "cell_type": "code",
   "execution_count": null,
   "outputs": [],
   "source": [
    "def distance_from_redshift(z):\n",
    "    return c * z / H0\n",
    "\n",
    "def cluster_volume(cluster_radius_Mpc):\n",
    "    return (4/3) * np.pi * cluster_radius_Mpc**3"
   ],
   "metadata": {
    "collapsed": false,
    "pycharm": {
     "name": "#%%\n"
    }
   }
  },
  {
   "cell_type": "code",
   "execution_count": null,
   "outputs": [],
   "source": [
    "cluster_df = pd.DataFrame()\n",
    "cluster_df['c_ID'] = efeds_catalog['ID-SRC'].byteswap().newbyteorder()\n",
    "cluster_df['RA'] = (efeds_catalog['RA']).byteswap().newbyteorder()    # degrees\n",
    "cluster_df['DEC'] = (efeds_catalog['DEC']).byteswap().newbyteorder()   # degrees\n",
    "cluster_df['z'] = efeds_catalog['ZBEST'].byteswap().newbyteorder()\n",
    "cluster_df['distance_Mpc'] = distance_from_redshift(cluster_df['z'])\n",
    "cluster_df['cluster_radius_Mpc'] = efeds_catalog['R_LAMBDA']\n",
    "cluster_df['cluster_volume_Mpc3'] = cluster_volume(cluster_df['cluster_radius_Mpc'])\n",
    "cluster_df['cluster_Velocity_Dispersion'] = efeds_catalog['VDISP']  # (Km/s)"
   ],
   "metadata": {
    "collapsed": false,
    "pycharm": {
     "name": "#%%\n"
    }
   }
  },
  {
   "cell_type": "code",
   "execution_count": null,
   "outputs": [],
   "source": [
    "plt.scatter(cluster_df['c_ID'],cluster_df['cluster_Velocity_Dispersion'])"
   ],
   "metadata": {
    "collapsed": false,
    "pycharm": {
     "name": "#%%\n"
    }
   }
  },
  {
   "cell_type": "code",
   "execution_count": null,
   "outputs": [],
   "source": [],
   "metadata": {
    "collapsed": false,
    "pycharm": {
     "name": "#%%\n"
    }
   }
  },
  {
   "cell_type": "code",
   "execution_count": 41,
   "outputs": [],
   "source": [
    "cluster_df = pd.DataFrame()\n",
    "cluster_df['c_ID'] = efeds_catalog['ID-SRC'].byteswap().newbyteorder()\n",
    "cluster_df['RA'] = (efeds_catalog['RA']).byteswap().newbyteorder()    # degrees\n",
    "cluster_df['DEC'] = (efeds_catalog['DEC']).byteswap().newbyteorder()   # degrees\n",
    "cluster_df['z'] = efeds_catalog['ZBEST'].byteswap().newbyteorder()\n",
    "cluster_df['distance_Mpc'] = distance_from_redshift(cluster_df['z'])\n",
    "cluster_df['cluster_radius_Mpc'] = efeds_catalog['R_LAMBDA']\n",
    "cluster_df['cluster_volume_Mpc3'] = cluster_volume(cluster_df['cluster_radius_Mpc'])\n",
    "cluster_df['cluster_Velocity_Dispersion'] = efeds_catalog['VDISP']  # (Km/s)"
   ],
   "metadata": {
    "collapsed": false
   }
  },
  {
   "cell_type": "code",
   "execution_count": 42,
   "outputs": [
    {
     "data": {
      "text/plain": "<matplotlib.collections.PathCollection at 0x74d5cc9d6f50>"
     },
     "execution_count": 42,
     "metadata": {},
     "output_type": "execute_result"
    },
    {
     "data": {
      "text/plain": "<Figure size 640x480 with 1 Axes>",
      "image/png": "[encoded data removed]"
     },
     "metadata": {},
     "output_type": "display_data"
    }
   ],
   "source": [
    "plt.scatter(cluster_df['c_ID'],cluster_df['cluster_Velocity_Dispersion'])"
   ],
   "metadata": {
    "collapsed": false
   }
  },
  {
   "cell_type": "code",
   "execution_count": null,
   "outputs": [],
   "source": [],
   "metadata": {
    "collapsed": false
   }
  },
  {
   "cell_type": "code",
   "execution_count": null,
   "outputs": [],
   "source": [],
   "metadata": {
    "collapsed": false
   }
  }
 ],
 "metadata": {
  "kernelspec": {
   "display_name": "Python 3",
   "language": "python",
   "name": "python3"
  },
  "language_info": {
   "codemirror_mode": {
    "name": "ipython",
    "version": 2
   },
   "file_extension": ".py",
   "mimetype": "text/x-python",
   "name": "python",
   "nbconvert_exporter": "python",
   "pygments_lexer": "ipython2",
   "version": "2.7.6"
  }
 },
 "nbformat": 4,
 "nbformat_minor": 0
}