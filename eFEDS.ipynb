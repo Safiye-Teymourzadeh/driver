{
 "cells": [
  {
   "cell_type": "code",
   "execution_count": 2,
   "metadata": {
    "collapsed": true
   },
   "outputs": [
    {
     "data": {
      "text/plain": "\"\\n    OK what I have to do is to go for the eFEDS\\n    check the clusters that are in GAMA regions;\\n    find the galaxies that are in each cluster.\\n    Then find the mass function for each cluster;\\n    which means it doesn't need the “weights” since all of the galaxies are in the cluster\\n    \""
     },
     "execution_count": 2,
     "metadata": {},
     "output_type": "execute_result"
    }
   ],
   "source": [
    "'''\n",
    "    OK what I have to do is to go for the eFEDS\n",
    "    check the clusters that are in GAMA regions;\n",
    "    find the galaxies that are in each cluster.\n",
    "    Then find the mass function for each cluster;\n",
    "    which means it doesn't need the “weights” since all of the galaxies are in the cluster\n",
    "    '''"
   ]
  },
  {
   "cell_type": "code",
   "execution_count": 1,
   "outputs": [],
   "source": [
    "import numpy as np\n",
    "import healpy as hp\n",
    "import pandas as pd\n",
    "from scipy import integrate\n",
    "import astropy.io.fits as fits\n",
    "import matplotlib.pyplot as plt\n",
    "from astropy.cosmology import Planck15 as cosmo\n",
    "from scipy.interpolate import interp1d\n",
    "from scipy.optimize import curve_fit\n",
    "from completeness import create_completeness_dataframe"
   ],
   "metadata": {
    "collapsed": false
   }
  },
  {
   "cell_type": "code",
   "execution_count": null,
   "outputs": [],
   "source": [
    "gkvInputCatv02_raw = fits.open('/home/farnoosh/farnoosh/Master_Thesis_all/Data/GAMA/gkvInputCatv02/gkvInputCatv02.fits')[1].data\n",
    "SM_cat_raw = fits.open('/home/farnoosh/farnoosh/Master_Thesis_all/Data/GAMA/merged/StellarMass-gkvScience/mergedStellarMass-gkvScience')[1].data\n",
    "\n",
    "drivedrc = np.loadtxt('/home/farnoosh/farnoosh/Master_Thesis_all/Data/GAMA/derivedrc.ascii', unpack = True)\n"
   ],
   "metadata": {
    "collapsed": false
   }
  }
 ],
 "metadata": {
  "kernelspec": {
   "display_name": "Python 3",
   "language": "python",
   "name": "python3"
  },
  "language_info": {
   "codemirror_mode": {
    "name": "ipython",
    "version": 2
   },
   "file_extension": ".py",
   "mimetype": "text/x-python",
   "name": "python",
   "nbconvert_exporter": "python",
   "pygments_lexer": "ipython2",
   "version": "2.7.6"
  }
 },
 "nbformat": 4,
 "nbformat_minor": 0
}
