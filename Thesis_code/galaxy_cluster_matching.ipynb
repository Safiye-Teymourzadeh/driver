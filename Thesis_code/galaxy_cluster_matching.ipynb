{
 "cells": [
  {
   "cell_type": "code",
   "execution_count": 2,
   "metadata": {},
   "outputs": [],
   "source": [
    "import numpy as np\n",
    "from matplotlib import pyplot as plt\n",
    "import galaxy_cluster_matching\n",
    "import pandas as pd"
   ]
  },
  {
   "cell_type": "code",
   "execution_count": 3,
   "metadata": {},
   "outputs": [],
   "source": [
    "matched_galaxy_df = pd.read_csv(\"matched_galaxy_df.csv\")"
   ]
  },
  {
   "cell_type": "code",
   "execution_count": 5,
   "metadata": {},
   "outputs": [
    {
     "name": "stdout",
     "output_type": "stream",
     "text": [
      "   Unnamed: 0           uberID          RA        DEC        z         mstar  \\\n",
      "0           0  138021052006945  137.992346   2.570577  0.21327  3.294812e+10   \n",
      "1           1  131010293406270  131.307189   1.507075  0.20730  1.506049e+10   \n",
      "2           2  216011091408416  215.555483   1.709142  0.15028  5.306888e+09   \n",
      "3           3  136000563202354  136.053008   0.138277  0.27538  5.989432e+10   \n",
      "4           4  345690124605004  346.545447 -31.310967  0.23777  1.752448e+11   \n",
      "5           5  341690300008314  342.851034 -31.000032  0.07866  1.087142e+10   \n",
      "6           6  130020205007803  130.790764   2.651356  0.29370  9.169161e+10   \n",
      "7           7  341690300608026  342.850445 -31.027130  0.12494  1.122824e+10   \n",
      "8           8  219980504410116  220.108360  -1.130792  0.18103  3.054050e+10   \n",
      "9           9  213990989009421  213.652103  -0.196277  0.13401  2.028629e+10   \n",
      "\n",
      "    flux_rt environment  cluster_mass cluster_name  cluster_radius  \n",
      "0  0.000124       Field           NaN          NaN             NaN  \n",
      "1  0.000058       Field           NaN          NaN             NaN  \n",
      "2  0.000052       Field           NaN          NaN             NaN  \n",
      "3  0.000058       Field           NaN          NaN             NaN  \n",
      "4  0.000259       Field           NaN          NaN             NaN  \n",
      "5  0.000318       Field           NaN          NaN             NaN  \n",
      "6  0.000101       Field           NaN          NaN             NaN  \n",
      "7  0.000081       Field           NaN          NaN             NaN  \n",
      "8  0.000118       Field           NaN          NaN             NaN  \n",
      "9  0.000236       Field           NaN          NaN             NaN  \n"
     ]
    }
   ],
   "source": [
    "matched_galaxy_df[\"position\"] = matched_galaxy_df[\"\"]"
   ]
  },
  {
   "cell_type": "code",
   "execution_count": null,
   "metadata": {},
   "outputs": [],
   "source": []
  }
 ],
 "metadata": {
  "kernelspec": {
   "display_name": "supremacy",
   "language": "python",
   "name": "python3"
  },
  "language_info": {
   "codemirror_mode": {
    "name": "ipython",
    "version": 3
   },
   "file_extension": ".py",
   "mimetype": "text/x-python",
   "name": "python",
   "nbconvert_exporter": "python",
   "pygments_lexer": "ipython3",
   "version": "3.10.12"
  }
 },
 "nbformat": 4,
 "nbformat_minor": 2
}
