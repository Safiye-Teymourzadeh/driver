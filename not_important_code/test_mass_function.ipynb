{
 "cells": [
  {
   "cell_type": "code",
   "execution_count": 4,
   "metadata": {
    "collapsed": true
   },
   "outputs": [],
   "source": [
    "import pandas as pd\n",
    "import astropy.io.fits as fits\n",
    "import matplotlib.pyplot as plt\n",
    "\n",
    "from completeness import create_completeness_dataframe\n",
    "from mass_function import get_weighted_mass_histogram"
   ]
  },
  {
   "cell_type": "code",
   "execution_count": 3,
   "outputs": [],
   "source": [
    "gkvInputCatv02_raw = fits.open('/home/farnoosh/farnoosh/Master_Thesis_all/Data/GAMA/gkvInputCatv02/gkvInputCatv02.fits')[1].data\n",
    "SM_cat_raw = fits.open('/home/farnoosh/farnoosh/Master_Thesis_all/Data/GAMA/merged/StellarMass-gkvScience/mergedStellarMass-gkvScience')[1].data"
   ],
   "metadata": {
    "collapsed": false
   }
  },
  {
   "cell_type": "code",
   "execution_count": 4,
   "outputs": [],
   "source": [
    "REGIONS_OF_SKY = {\n",
    "    # 'G02': {'RAcen': (30.20, 38.80), 'DECcen': (-10.25, -3.72)},\n",
    "    'G09': {'RAcen': (129.0, 141.0), 'DECcen': (-2.0, 3.0)},\n",
    "    'G12': {'RAcen': (174.0, 186.0), 'DECcen': (-3.0, 2.0)},\n",
    "    'G15': {'RAcen': (211.5, 223.5), 'DECcen': (-2.0, 3.0)},\n",
    "    'G23': {'RAcen': (339.0, 351.0), 'DECcen': (-35.0, -30.0)},\n",
    "}"
   ],
   "metadata": {
    "collapsed": false
   }
  },
  {
   "cell_type": "code",
   "execution_count": null,
   "outputs": [],
   "source": [
    "completeness_all_df = pd.DataFrame()\n",
    "\n",
    "# Loop over regions and create completeness DataFrames\n",
    "for region_name, region_params in REGIONS_OF_SKY.items():\n",
    "    completeness_region_df = create_completeness_dataframe(big_survey=gkvInputCatv02,\n",
    "                                                           small_survey=completeness_catalog,\n",
    "                                                           flux_type='flux_rt',\n",
    "                                                           region=region_name)\n",
    "    completeness_region_df['region'] = region_name\n",
    "    completeness_all_df = pd.concat([completeness_all_df, completeness_region_df], ignore_index=True)"
   ],
   "metadata": {
    "collapsed": false
   }
  },
  {
   "cell_type": "code",
   "execution_count": null,
   "outputs": [],
   "source": [
    "mass_histogram_catalog_dataframe = pd.DataFrame()\n",
    "mass_histogram_catalog_dataframe['uberID'] = mass_histogram_catalog['uberID'].byteswap().newbyteorder()\n",
    "mass_histogram_catalog_dataframe['mstar'] = mass_histogram_catalog['mstar'].byteswap().newbyteorder()\n",
    "mass_histogram_catalog_dataframe['comovingdist'] = mass_histogram_catalog['comovingdist'].byteswap().newbyteorder()\n"
   ],
   "metadata": {
    "collapsed": false
   }
  },
  {
   "cell_type": "code",
   "execution_count": null,
   "outputs": [],
   "source": [
    "full_mass_completeness_dataframe = pd.merge(mass_histogram_catalog_dataframe, completeness_all_df,\n",
    "                            on='uberID', how='left')"
   ],
   "metadata": {
    "collapsed": false
   }
  },
  {
   "cell_type": "code",
   "execution_count": null,
   "outputs": [],
   "source": [
    "region_colors = {'G09': 'red', 'G12': 'lime', 'G15': 'blue', 'G23': 'cyan'}\n",
    "fig, ax = plt.subplots(figsize=(24, 16))\n",
    "for region_name in REGIONS_OF_SKY.keys():\n",
    "    mass_hist = get_weighted_mass_histogram(input_mass_completeness_dataframe=full_mass_completeness_dataframe, region_name=region_name)\n",
    "    error = calculate_error(mass_hist, len(mass_hist))      # not correct\n",
    "\n",
    "    plt.errorbar(\n",
    "        MASS_BINS[:-1],\n",
    "        mass_hist,\n",
    "        yerr=error,\n",
    "        label=region_name,\n",
    "        color=region_colors.get(region_name),\n",
    "    )\n",
    "\n",
    "plt.plot(x, y, label='Driver Interpolated Line', color='magenta', linewidth=4)\n",
    "plt.xscale('log')\n",
    "plt.yscale('log')\n",
    "plt.xlabel('Stellar Mass ($M_{\\odot} \\ h_{70}^{-2}$)', fontsize=16)\n",
    "plt.ylabel('Number Density ($\\mathrm{Mpc}^{-3} \\ dex^{-1} \\ h_{70}^{3}$)', fontsize=16)\n",
    "plt.xlim((10**6.5, 10**12))\n",
    "plt.ylim((1e-5, 1e0))\n",
    "plt.tick_params(axis='both', which='major', labelsize=14)\n",
    "plt.legend()\n",
    "ax.grid(True, which='both', linestyle='--', linewidth=0.5)\n",
    "plt.show()\n",
    "print(calculate_error(mass_hist, len(mass_hist)))\n"
   ],
   "metadata": {
    "collapsed": false
   }
  }
 ],
 "metadata": {
  "kernelspec": {
   "display_name": "Python 3",
   "language": "python",
   "name": "python3"
  },
  "language_info": {
   "codemirror_mode": {
    "name": "ipython",
    "version": 2
   },
   "file_extension": ".py",
   "mimetype": "text/x-python",
   "name": "python",
   "nbconvert_exporter": "python",
   "pygments_lexer": "ipython2",
   "version": "2.7.6"
  }
 },
 "nbformat": 4,
 "nbformat_minor": 0
}
