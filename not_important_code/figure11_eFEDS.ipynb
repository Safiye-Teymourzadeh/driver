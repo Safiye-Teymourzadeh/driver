{
 "cells": [
  {
   "cell_type": "code",
   "execution_count": 1,
   "metadata": {
    "collapsed": true
   },
   "outputs": [],
   "source": [
    "import numpy as np\n",
    "import healpy as hp\n",
    "import pandas as pd\n",
    "from scipy import integrate\n",
    "import astropy.io.fits as fits\n",
    "import matplotlib.pyplot as plt\n",
    "from astropy.cosmology import Planck15 as cosmo\n",
    "from scipy.interpolate import interp1d\n",
    "from scipy.optimize import curve_fit"
   ]
  },
  {
   "cell_type": "code",
   "execution_count": 2,
   "outputs": [],
   "source": [
    "from completeness import create_completeness_dataframe"
   ],
   "metadata": {
    "collapsed": false
   }
  },
  {
   "cell_type": "code",
   "execution_count": 5,
   "outputs": [],
   "source": [
    "gkvInputCatv02_raw = fits.open('/home/farnoosh/farnoosh/Master_Thesis_all/Data/GAMA/gkvInputCatv02/gkvInputCatv02.fits')[1].data\n",
    "SM_cat_raw = fits.open('/home/farnoosh/farnoosh/Master_Thesis_all/Data/GAMA/merged/StellarMass-gkvScience/mergedStellarMass-gkvScience')[1].data\n",
    "efeds = fits.open('/home/farnoosh/farnoosh/Master_Thesis_all/Data/eFEDS/eFEDS_clusters_V3.2.fits')[1].data  # todo: DID change to efeds\n",
    "\n",
    "drivedrc = np.loadtxt('/home/farnoosh/farnoosh/Master_Thesis_all/Data/GAMA/derivedrc.ascii', unpack = True)"
   ],
   "metadata": {
    "collapsed": false
   }
  },
  {
   "cell_type": "code",
   "execution_count": 43,
   "outputs": [
    {
     "name": "stdout",
     "output_type": "stream",
     "text": [
      "mergedStellarMass_gkvScience, number of objects with SPEC_MASK: 197083\n",
      "mass_histogram_catalog, number of objects with masks: 18207\n"
     ]
    }
   ],
   "source": [
    "nside=4096\n",
    "z_max = 0.1 # ~430 Mpc\n",
    "DEX = 0.25  # width of the mass bins\n",
    "MASS_BINS = 10**np.arange(5,12.25,DEX)\n",
    "HUBBLE_CST = 0.7\n",
    "\n",
    "# todo: DID change to efeds RA & DEC\n",
    "REGIONS_OF_SKY = {\n",
    "    'G09': {'RAcen': (129.0, 141.0), 'DECcen': (-2.0, 3.0)},\n",
    "}\n",
    "\n",
    "\n",
    "# todo: change to efeds (should i really????)\n",
    "GKV_MASKS = (\n",
    "    (gkvInputCatv02_raw['uberclass'] == 1) &\n",
    "    (gkvInputCatv02_raw['flux_rt'] > 10**-4.3) &\n",
    "    (~gkvInputCatv02_raw['duplicate']) &\n",
    "    (~gkvInputCatv02_raw['mask']) &\n",
    "    (~gkvInputCatv02_raw['starmask'])\n",
    ")\n",
    "gkvInputCatv02 = gkvInputCatv02_raw[GKV_MASKS]\n",
    "\n",
    "# todo: change to efeds (should i really????)\n",
    "COMPLETENESS_MASKS = (\n",
    "    (~SM_cat_raw['duplicate']) &\n",
    "    (~SM_cat_raw['mask']) &\n",
    "    (~SM_cat_raw['starmask']) &\n",
    "    (SM_cat_raw['uberclass'] == 1) &\n",
    "    (SM_cat_raw['mstar'] > 0) &\n",
    "    (SM_cat_raw['flux_rt'] > 10**-4.3)\n",
    ")\n",
    "\n",
    "# todo: change to efeds (should i really????)\n",
    "MASS_HISTOGRAM_MASKS = (\n",
    "         (SM_cat_raw['uberclass'] == 1 ) & #galaxy\n",
    "         (SM_cat_raw['duplicate'] == False) &\n",
    "         (SM_cat_raw['mask'] == False) &\n",
    "         (SM_cat_raw['starmask'] == False) &\n",
    "         (SM_cat_raw['NQ'] > 2) &\n",
    "         (SM_cat_raw['SC'] > 7) &\n",
    "         (SM_cat_raw['mstar'] > 0) &\n",
    "         (SM_cat_raw['Z'] < z_max) &\n",
    "         (SM_cat_raw['flux_rt'] > 3631*10**(0.4*-19))\n",
    ")\n",
    "\n",
    "# todo: change to efeds\n",
    "completeness_catalog = SM_cat_raw[COMPLETENESS_MASKS]\n",
    "mass_histogram_catalog = SM_cat_raw[MASS_HISTOGRAM_MASKS]\n",
    "print('mergedStellarMass_gkvScience, number of objects with SPEC_MASK:', len(completeness_catalog))\n",
    "print('mass_histogram_catalog, number of objects with masks:',len(mass_histogram_catalog))"
   ],
   "metadata": {
    "collapsed": false
   }
  },
  {
   "cell_type": "code",
   "execution_count": 34,
   "outputs": [],
   "source": [
    "MS_regions = ['G09'] # todo: DID change to efeds\n",
    "MS = {region_name: REGIONS_OF_SKY[region_name] for region_name in MS_regions}\n",
    "\n",
    "MS_SM_cat = {region_name: mass_histogram_catalog[(\n",
    "    (mass_histogram_catalog['RAcen'] >= region_params['RAcen'][0]) & (mass_histogram_catalog['RAcen'] <= region_params['RAcen'][1]) &\n",
    "    (mass_histogram_catalog['DECcen'] >= region_params['DECcen'][0]) & (mass_histogram_catalog['DECcen'] <= region_params['DECcen'][1])\n",
    ") ] for region_name, region_params in MS.items()}"
   ],
   "metadata": {
    "collapsed": false
   }
  },
  {
   "cell_type": "code",
   "execution_count": 51,
   "outputs": [
    {
     "data": {
      "text/plain": "<matplotlib.collections.PathCollection at 0x7f409cca90c0>"
     },
     "execution_count": 51,
     "metadata": {},
     "output_type": "execute_result"
    },
    {
     "data": {
      "text/plain": "<Figure size 640x480 with 1 Axes>",
      "image/png": "[encoded data removed]"
     },
     "metadata": {},
     "output_type": "display_data"
    }
   ],
   "source": [
    "\n",
    "plt.scatter(efeds['RA'],efeds['DEC'])\n",
    "plt.scatter(mass_histogram_catalog['RAcen'], mass_histogram_catalog['DECcen'])"
   ],
   "metadata": {
    "collapsed": false
   }
  },
  {
   "cell_type": "code",
   "execution_count": 35,
   "outputs": [],
   "source": [
    "# Function to get the weighted histogram of the objects of each region\n",
    "def get_weighted_mass_histogram(input_mass_completeness_dataframe: pd.DataFrame, region_name: str):\n",
    "    filtered_by_region_dataframe = input_mass_completeness_dataframe[input_mass_completeness_dataframe['region'] == region_name]\n",
    "    mass_column = filtered_by_region_dataframe['mstar']\n",
    "    completeness_column = filtered_by_region_dataframe['completeness']\n",
    "    volume_richard_curve = get_region_volume(region_name=region_name, mass_list=mass_column)\n",
    "    weight = np.log(10)/ (volume_richard_curve * completeness_column * DEX)\n",
    "    return np.histogram(mass_column, MASS_BINS, weights=weight)[0]\n",
    "\n",
    "# Function to get the volume of each region\n",
    "def get_region_volume(region_name: str, mass_list: list):\n",
    "    region = REGIONS_OF_SKY[region_name]\n",
    "    region_area = calculate_patch_area(patch=region, nside=4096)\n",
    "    average_pixel_area = 4 * np.pi / (12 * nside**2)\n",
    "    total_area_sphere = hp.nside2npix(nside) * average_pixel_area\n",
    "    fraction_region = region_area / total_area_sphere\n",
    "    return calculate_volume([richard_curve(mass) for mass in mass_list], fraction_region)\n",
    "\n",
    "# Function to calculate the area for a given patch\n",
    "def calculate_patch_area(patch: dict, nside: int=4096):\n",
    "    RA_min, RA_max = np.deg2rad(patch['RAcen'])\n",
    "    DEC_min, DEC_max = np.deg2rad(patch['DECcen'])\n",
    "\n",
    "    # Calculate the pixel indices for the given patch\n",
    "    pix_indices = np.arange(hp.nside2npix(nside))\n",
    "    pix_indices_patch = pix_indices[\n",
    "        (hp.pixelfunc.pix2ang(nside, pix_indices)[0] >= np.pi/2 - DEC_max) &\n",
    "        (hp.pixelfunc.pix2ang(nside, pix_indices)[0] <= np.pi/2 - DEC_min) &\n",
    "        (hp.pixelfunc.pix2ang(nside, pix_indices)[1] >= RA_min) &\n",
    "        (hp.pixelfunc.pix2ang(nside, pix_indices)[1] <= RA_max)\n",
    "    ]\n",
    "\n",
    "    # Calculate the area of the given patch using the average solid angle of a pixel\n",
    "    average_pixel_area = 4 * np.pi / (12 * nside**2)\n",
    "    patch_area = len(pix_indices_patch) * average_pixel_area\n",
    "\n",
    "    return patch_area\n",
    "\n",
    "\n",
    "x_r_curve = np.hstack((0, drivedrc[0], 1e13))\n",
    "y_r_curve = np.hstack((0, drivedrc[1], drivedrc[1][-1]))\n",
    "\n",
    "\n",
    "\n",
    "fun_MD = interp1d(x_r_curve, y_r_curve)\n",
    "fun_MD(10**np.arange(9, 12, 0.1))\n",
    "richard_curve = fun_MD\n",
    "\n",
    "# Function to calculate volume (Mpc^3)\n",
    "def calculate_volume(radius, fraction):\n",
    "    return 4 / 3 * np.pi * np.power(radius, 3)  * fraction\n",
    "\n",
    "# Function to calculate error\n",
    "def calculate_error(y_data, N):\n",
    "    return np.sqrt((y_data * N**(-1/2))**2 + (y_data * 0.043)**2)"
   ],
   "metadata": {
    "collapsed": false
   }
  },
  {
   "cell_type": "code",
   "execution_count": 36,
   "outputs": [],
   "source": [
    "def Rrichard_curve(x):\n",
    "    \"\"\"\n",
    "    Richards curve from GAMA based on Table 5, Eq. 2 from Driver et al. 2022\n",
    "    :param x: log10 of stellar mass limit\n",
    "    :return: co moving distance  in Mpc\n",
    "    \"\"\"\n",
    "    # todo: change to efeds\n",
    "    A = -0.016\n",
    "    K = 2742.0\n",
    "    C = 0.9412\n",
    "    B = 1.1483\n",
    "    M = 11.815\n",
    "    nu = 1.691\n",
    "    y = A + (K - A) / (C + np.exp(-B * (x - M))) ** (1 / nu)\n",
    "    return y\n",
    "\n",
    "\n",
    "# Create an array of the stellar masses from the catalog\n",
    "mstar_values = mass_histogram_catalog['mstar']\n",
    "\n",
    "# Calculate the corresponding Richards curve values for each stellar mass\n",
    "richards_curve_values = Rrichard_curve(np.log10(mstar_values))"
   ],
   "metadata": {
    "collapsed": false
   }
  },
  {
   "cell_type": "code",
   "execution_count": 37,
   "outputs": [
    {
     "name": "stderr",
     "output_type": "stream",
     "text": [
      "/home/farnoosh/Nextcloud/MasterThesis/codes/jupyternotebooks/completeness.py:34: RuntimeWarning: invalid value encountered in divide\n",
      "  return np.cumsum(number_of_obj_small_survey)/np.cumsum(number_of_obj_big_survey)\n"
     ]
    },
    {
     "name": "stdout",
     "output_type": "stream",
     "text": [
      "                uberID  completeness region\n",
      "0      138021052006945      0.962803    G09\n",
      "1      131010293406270      0.902471    G09\n",
      "2      136000563202354      0.899956    G09\n",
      "3      130020205007803      0.958275    G09\n",
      "4      132990039308055      0.957683    G09\n",
      "...                ...           ...    ...\n",
      "48916  130990634008739      0.926408    G09\n",
      "48917  135021016609990      0.950147    G09\n",
      "48918  135000832810514      0.958134    G09\n",
      "48919  140000362709494      0.948196    G09\n",
      "48920  137021074202062      0.932932    G09\n",
      "\n",
      "[48921 rows x 3 columns]\n"
     ]
    }
   ],
   "source": [
    "completeness_all_df = pd.DataFrame()\n",
    "\n",
    "# Loop over regions and create completeness DataFrames\n",
    "for region_name, region_params in REGIONS_OF_SKY.items():\n",
    "    # completeness_region_df = pd.DataFrame()\n",
    "    completeness_region_df = create_completeness_dataframe(big_survey=gkvInputCatv02, # todo: change to efeds\n",
    "                                                           small_survey=completeness_catalog,\n",
    "                                                           flux_type='flux_rt',\n",
    "                                                           region=region_name)\n",
    "    completeness_region_df['region'] = region_name\n",
    "    completeness_all_df = pd.concat([completeness_all_df, completeness_region_df], ignore_index=True)\n",
    "print(completeness_all_df)"
   ],
   "metadata": {
    "collapsed": false
   }
  },
  {
   "cell_type": "code",
   "execution_count": 38,
   "outputs": [],
   "source": [
    "mass_histogram_catalog_dataframe = pd.DataFrame()\n",
    "mass_histogram_catalog_dataframe['uberID'] = mass_histogram_catalog['uberID'].byteswap().newbyteorder() # todo: change to efeds\n",
    "mass_histogram_catalog_dataframe['mstar'] = mass_histogram_catalog['mstar'].byteswap().newbyteorder() # todo: change to efeds\n",
    "mass_histogram_catalog_dataframe['comovingdist'] = mass_histogram_catalog['comovingdist'].byteswap().newbyteorder() # todo: change to efeds\n"
   ],
   "metadata": {
    "collapsed": false
   }
  },
  {
   "cell_type": "code",
   "execution_count": 39,
   "outputs": [],
   "source": [
    "# Merge completeness DataFrame with mass_histogram_catalog_dataframe based on 'uberID'\n",
    "full_mass_completeness_dataframe = pd.merge(mass_histogram_catalog_dataframe, completeness_all_df,\n",
    "                            on='uberID', how='left')"
   ],
   "metadata": {
    "collapsed": false
   }
  },
  {
   "cell_type": "code",
   "execution_count": null,
   "outputs": [],
   "source": [],
   "metadata": {
    "collapsed": false
   }
  }
 ],
 "metadata": {
  "kernelspec": {
   "display_name": "Python 3",
   "language": "python",
   "name": "python3"
  },
  "language_info": {
   "codemirror_mode": {
    "name": "ipython",
    "version": 2
   },
   "file_extension": ".py",
   "mimetype": "text/x-python",
   "name": "python",
   "nbconvert_exporter": "python",
   "pygments_lexer": "ipython2",
   "version": "2.7.6"
  }
 },
 "nbformat": 4,
 "nbformat_minor": 0
}
