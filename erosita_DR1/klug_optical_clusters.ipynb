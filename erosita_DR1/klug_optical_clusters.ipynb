{
 "cells": [
  {
   "cell_type": "code",
   "id": "initial_id",
   "metadata": {
    "collapsed": true,
    "ExecuteTime": {
     "end_time": "2024-06-24T09:39:21.244837Z",
     "start_time": "2024-06-24T09:39:21.242155Z"
    }
   },
   "source": [
    "import astropy.io.fits as fits\n",
    "import pandas as pd\n",
    "from matplotlib import pyplot as plt\n",
    "import numpy as np\n",
    "\n",
    "from galaxy_cluster_matching import match_galaxies_and_clusters\n",
    "from completeness import create_completeness_dataframe\n",
    "from mass_function import get_weighted_mass_histogram\n",
    "from constants import MASS_BINS\n",
    "from constants import REGIONS_OF_SKY"
   ],
   "outputs": [],
   "execution_count": 6
  },
  {
   "metadata": {
    "ExecuteTime": {
     "end_time": "2024-06-24T10:20:10.479901Z",
     "start_time": "2024-06-24T10:20:10.295601Z"
    }
   },
   "cell_type": "code",
   "source": [
    "# Loading the data\n",
    "\n",
    "# big survey\n",
    "sciencegkv_galaxies_raw = \\\n",
    "fits.open('/home/farnoosh/farnoosh/Master_Thesis_all/Data/GAMA/gkvScienceCatv02/gkvScienceCatv02.fits')[1].data\n",
    "\n",
    "# small survey (this is the main one)\n",
    "galaxies_raw = fits.open('/home/farnoosh/farnoosh/Master_Thesis_all/Data/GAMA/merged/StellarMass-gkvScience/mergedStellarMass-gkvScience')[1].data\n",
    "\n",
    "# cluster survey\n",
    "clusters_raw = fits.open('/home/farnoosh/farnoosh/Master_Thesis_all/Data/eRASS/merged_clusterprimary_optical/merged_primary_optical_clsuters.fits')[1].data  # clusters\n",
    "\n",
    "print('number of galaxies: ', len(sciencegkv_galaxies_raw))\n",
    "print('number of galaxies: ', len(galaxies_raw))\n",
    "print('number of the clusters: ', len(clusters_raw))"
   ],
   "id": "7906d7a8d34eb15d",
   "outputs": [
    {
     "name": "stdout",
     "output_type": "stream",
     "text": [
      "number of galaxies:  2232985\n",
      "number of galaxies:  370116\n",
      "number of the clusters:  12247\n"
     ]
    }
   ],
   "execution_count": 10
  },
  {
   "metadata": {
    "ExecuteTime": {
     "end_time": "2024-06-24T10:20:13.687704Z",
     "start_time": "2024-06-24T10:20:12.063428Z"
    }
   },
   "cell_type": "code",
   "source": [
    "# big survey masks\n",
    "sciencegkv_galaxy_mask = (\n",
    "        (sciencegkv_galaxies_raw['uberclass'] == 1) &  # classified as galaxy\n",
    "        (sciencegkv_galaxies_raw['Z'] < 0.4) &\n",
    "        # (sciencegkv_galaxies_raw['Z'] != -9.999) &\n",
    "        # (sciencegkv_galaxies_raw['SC'] > 7) &                 # 95% redshift completeness limit for SC 7, and 98% for SC 8\n",
    "        # (sciencegkv_galaxies_raw['NQ'] > 2) &                 # reliable redshift\n",
    "        (sciencegkv_galaxies_raw['duplicate'] == 0) &  # unique object\n",
    "        (sciencegkv_galaxies_raw['mask'] == False) &\n",
    "        (sciencegkv_galaxies_raw['starmask'] == False) &\n",
    "        # (sciencegkv_galaxies_raw['RAcen'] > 129.0) &\n",
    "        # (sciencegkv_galaxies_raw['RAcen'] < 141.0) &\n",
    "        # (sciencegkv_galaxies_raw['Deccen'] > -2.0) &\n",
    "        # (sciencegkv_galaxies_raw['Deccen'] < 3.0)&\n",
    "        (sciencegkv_galaxies_raw['flux_rt'] >= 5.011928e-05)  # maximum magnitude of 19.65 in r-band\n",
    ")\n",
    "\n",
    "# small survey masks\n",
    "galaxy_mask = (\n",
    "        (galaxies_raw['uberclass'] == 1) &  # classified as galaxy\n",
    "        (galaxies_raw['duplicate'] == False) &\n",
    "        (galaxies_raw['mask'] == False) &\n",
    "        (galaxies_raw['NQ'] > 2) &  # reliable redshift\n",
    "        # (galaxies_raw['SC'] > 7) &\n",
    "        (galaxies_raw['starmask'] == False) &\n",
    "        (galaxies_raw['mstar'] > 0) &\n",
    "        (galaxies_raw['Z'] < 0.4) &\n",
    "        # (galaxies_raw['RAcen'] > 129.0) &\n",
    "        # (galaxies_raw['RAcen'] < 141.0) &\n",
    "        # (galaxies_raw['Deccen'] > -2.0) &\n",
    "        # (galaxies_raw['Deccen'] < 3.0)  &\n",
    "        (galaxies_raw['flux_rt'] >= 5.011928e-05)\n",
    ")\n",
    "\n",
    "# cluster masks\n",
    "cluster_mask = (\n",
    "    # ~np.isnan(clusters_raw['VDISP']) &  # mask clusters which don't have VDISP values\n",
    "        (clusters_raw['VDISP_BOOT'] > 12) &  # mask clusters which don't have VDISP values\n",
    "        (clusters_raw['VDISP_BOOT'] <= 10851)\n",
    "    # (clusters_raw['RA'] > 128.5007) &\n",
    "    # (clusters_raw['RA'] < 141.5) &\n",
    "    # (clusters_raw['DEC'] > -2.05) &\n",
    "    # (clusters_raw['DEC'] < 3.02)\n",
    ")\n",
    "\n",
    "big_galaxy_catalog = sciencegkv_galaxies_raw[sciencegkv_galaxy_mask]\n",
    "galaxy_catalog = galaxies_raw[galaxy_mask]\n",
    "cluster_catalog = clusters_raw[cluster_mask]\n",
    "print('number of the galaxies in big survey after masking: ', len(big_galaxy_catalog))\n",
    "print('number of the galaxies in small survey after masking: ', len(galaxy_catalog))\n",
    "print('eFEDS has 150 galaxies with VDISP in G09 region, however in the same region eRAS1 has 25 clusters.')\n",
    "print('number of the clusters after masking: ', len(cluster_catalog))"
   ],
   "id": "55fc4b1f4f2a5450",
   "outputs": [
    {
     "name": "stdout",
     "output_type": "stream",
     "text": [
      "number of the galaxies in big survey after masking:  193150\n",
      "number of the galaxies in small survey after masking:  183515\n",
      "eFEDS has 150 galaxies with VDISP in G09 region, however in the same region eRAS1 has 25 clusters.\n",
      "number of the clusters after masking:  1906\n"
     ]
    }
   ],
   "execution_count": 11
  },
  {
   "metadata": {
    "ExecuteTime": {
     "end_time": "2024-06-24T10:20:17.995998Z",
     "start_time": "2024-06-24T10:20:15.703245Z"
    }
   },
   "cell_type": "code",
   "source": [
    "completeness_all_df = pd.DataFrame()\n",
    "\n",
    "# Loop over each region and create the completeness DataFrame for that region\n",
    "for region_name in REGIONS_OF_SKY.keys():\n",
    "    completeness_region_df = create_completeness_dataframe(\n",
    "        big_survey=big_galaxy_catalog,\n",
    "        small_survey=galaxy_catalog,\n",
    "        flux_type='flux_rt',\n",
    "        region=region_name\n",
    "    )\n",
    "    completeness_region_df['region'] = region_name\n",
    "    completeness_all_df = pd.concat([completeness_all_df, completeness_region_df], ignore_index=True)\n",
    "\n",
    "# First few rows of the combined galaxy DataFrame\n",
    "print(completeness_all_df)"
   ],
   "id": "c724b6df3da3ee26",
   "outputs": [
    {
     "name": "stderr",
     "output_type": "stream",
     "text": [
      "/media/farnoosh/LMU/nextcloud/jupyternotebooks/erosita_DR1/completeness.py:54: RuntimeWarning: invalid value encountered in divide\n",
      "  return np.cumsum(number_of_obj_small_survey)/np.cumsum(number_of_obj_big_survey)\n",
      "/media/farnoosh/LMU/nextcloud/jupyternotebooks/erosita_DR1/completeness.py:54: RuntimeWarning: invalid value encountered in divide\n",
      "  return np.cumsum(number_of_obj_small_survey)/np.cumsum(number_of_obj_big_survey)\n",
      "/media/farnoosh/LMU/nextcloud/jupyternotebooks/erosita_DR1/completeness.py:54: RuntimeWarning: invalid value encountered in divide\n",
      "  return np.cumsum(number_of_obj_small_survey)/np.cumsum(number_of_obj_big_survey)\n",
      "/media/farnoosh/LMU/nextcloud/jupyternotebooks/erosita_DR1/completeness.py:54: RuntimeWarning: invalid value encountered in divide\n",
      "  return np.cumsum(number_of_obj_small_survey)/np.cumsum(number_of_obj_big_survey)\n"
     ]
    },
    {
     "name": "stdout",
     "output_type": "stream",
     "text": [
      "                 uberID  completeness region\n",
      "0       138021052006945      0.953327    G09\n",
      "1       131010293406270      0.878219    G09\n",
      "2       136000563202354      0.875673    G09\n",
      "3       130020205007803      0.947321    G09\n",
      "4       130990151906125      0.958461    G09\n",
      "...                 ...           ...    ...\n",
      "183509  344660640302033      0.860468    G23\n",
      "183510  341690286909859      0.723858    G23\n",
      "183511  339670781606938      0.671422    G23\n",
      "183512  346700890705873      0.824393    G23\n",
      "183513  338690341704233      0.850110    G23\n",
      "\n",
      "[183514 rows x 3 columns]\n"
     ]
    }
   ],
   "execution_count": 12
  },
  {
   "metadata": {
    "ExecuteTime": {
     "end_time": "2024-06-24T09:27:54.288842Z",
     "start_time": "2024-06-24T09:27:54.036253Z"
    }
   },
   "cell_type": "code",
   "source": [
    "# Dataframes\n",
    "cluster_df = pd.DataFrame({\n",
    "    'c_NAME': cluster_catalog['NAME'].byteswap().newbyteorder(),\n",
    "    'RA': cluster_catalog['RA'].byteswap().newbyteorder(),\n",
    "    'DEC': cluster_catalog['DEC'].byteswap().newbyteorder(),\n",
    "    'z': cluster_catalog['BEST_Z'].byteswap().newbyteorder(),\n",
    "    'cluster_radius_Mpc': cluster_catalog['R_LAMBDA'].byteswap().newbyteorder(),\n",
    "    'cluster_Velocity_Dispersion': cluster_catalog['VDISP_BOOT'].byteswap().newbyteorder(),\n",
    "    'VDISP_error': cluster_catalog['VDISP_BOOT_ERR'].byteswap().newbyteorder()\n",
    "})\n",
    "\n",
    "# Creating the galaxy DataFrame and merging with mass data \n",
    "galaxy_df = pd.DataFrame({\n",
    "    'uberID': galaxy_catalog['uberID'].byteswap().newbyteorder(),\n",
    "    'RA': galaxy_catalog['RAcen'].byteswap().newbyteorder(),\n",
    "    'DEC': galaxy_catalog['Deccen'].byteswap().newbyteorder(),\n",
    "    'z': galaxy_catalog['Z'].byteswap().newbyteorder(),\n",
    "    'mstar': galaxy_catalog['mstar'].byteswap().newbyteorder()\n",
    "})\n",
    "\n",
    "print(galaxy_df)"
   ],
   "id": "edf94894ed19627a",
   "outputs": [
    {
     "ename": "KeyError",
     "evalue": "\"Key 'R_LAMBDA' does not exist.\"",
     "output_type": "error",
     "traceback": [
      "\u001B[0;31m---------------------------------------------------------------------------\u001B[0m",
      "\u001B[0;31mValueError\u001B[0m                                Traceback (most recent call last)",
      "File \u001B[0;32m~/nextcloud/MasterThesis/MasterThesis/codes/jupyternotebooks/venv/lib/python3.12/site-packages/astropy/io/fits/column.py:2145\u001B[0m, in \u001B[0;36m_get_index\u001B[0;34m(names, key)\u001B[0m\n\u001B[1;32m   2144\u001B[0m \u001B[38;5;28;01mtry\u001B[39;00m:\n\u001B[0;32m-> 2145\u001B[0m     indx \u001B[38;5;241m=\u001B[39m \u001B[43mnames\u001B[49m\u001B[38;5;241;43m.\u001B[39;49m\u001B[43mindex\u001B[49m\u001B[43m(\u001B[49m\u001B[43mkey\u001B[49m\u001B[38;5;241;43m.\u001B[39;49m\u001B[43mrstrip\u001B[49m\u001B[43m(\u001B[49m\u001B[43m)\u001B[49m\u001B[43m)\u001B[49m\n\u001B[1;32m   2146\u001B[0m \u001B[38;5;28;01mexcept\u001B[39;00m \u001B[38;5;167;01mValueError\u001B[39;00m:\n\u001B[1;32m   2147\u001B[0m     \u001B[38;5;66;03m# try to match case-insentively,\u001B[39;00m\n",
      "\u001B[0;31mValueError\u001B[0m: 'R_LAMBDA' is not in list",
      "\nDuring handling of the above exception, another exception occurred:\n",
      "\u001B[0;31mKeyError\u001B[0m                                  Traceback (most recent call last)",
      "Cell \u001B[0;32mIn[5], line 8\u001B[0m\n\u001B[1;32m      1\u001B[0m \u001B[38;5;66;03m# Dataframes\u001B[39;00m\n\u001B[1;32m      2\u001B[0m cluster_df \u001B[38;5;241m=\u001B[39m pd\u001B[38;5;241m.\u001B[39mDataFrame({\n\u001B[1;32m      3\u001B[0m     \u001B[38;5;66;03m# 'c_ID': cluster_catalog['ID-SRC'].byteswap().newbyteorder(), \u001B[39;00m\n\u001B[1;32m      4\u001B[0m     \u001B[38;5;124m'\u001B[39m\u001B[38;5;124mc_NAME\u001B[39m\u001B[38;5;124m'\u001B[39m: cluster_catalog[\u001B[38;5;124m'\u001B[39m\u001B[38;5;124mNAME\u001B[39m\u001B[38;5;124m'\u001B[39m]\u001B[38;5;241m.\u001B[39mbyteswap()\u001B[38;5;241m.\u001B[39mnewbyteorder(),\n\u001B[1;32m      5\u001B[0m     \u001B[38;5;124m'\u001B[39m\u001B[38;5;124mRA\u001B[39m\u001B[38;5;124m'\u001B[39m: cluster_catalog[\u001B[38;5;124m'\u001B[39m\u001B[38;5;124mRA\u001B[39m\u001B[38;5;124m'\u001B[39m]\u001B[38;5;241m.\u001B[39mbyteswap()\u001B[38;5;241m.\u001B[39mnewbyteorder(),\n\u001B[1;32m      6\u001B[0m     \u001B[38;5;124m'\u001B[39m\u001B[38;5;124mDEC\u001B[39m\u001B[38;5;124m'\u001B[39m: cluster_catalog[\u001B[38;5;124m'\u001B[39m\u001B[38;5;124mDEC\u001B[39m\u001B[38;5;124m'\u001B[39m]\u001B[38;5;241m.\u001B[39mbyteswap()\u001B[38;5;241m.\u001B[39mnewbyteorder(),\n\u001B[1;32m      7\u001B[0m     \u001B[38;5;66;03m# 'z': cluster_catalog['ZBEST'].byteswap().newbyteorder(),\u001B[39;00m\n\u001B[0;32m----> 8\u001B[0m     \u001B[38;5;124m'\u001B[39m\u001B[38;5;124mcluster_radius_Mpc\u001B[39m\u001B[38;5;124m'\u001B[39m: \u001B[43mcluster_catalog\u001B[49m\u001B[43m[\u001B[49m\u001B[38;5;124;43m'\u001B[39;49m\u001B[38;5;124;43mR_LAMBDA\u001B[39;49m\u001B[38;5;124;43m'\u001B[39;49m\u001B[43m]\u001B[49m\u001B[38;5;241m.\u001B[39mbyteswap()\u001B[38;5;241m.\u001B[39mnewbyteorder(),\n\u001B[1;32m      9\u001B[0m     \u001B[38;5;124m'\u001B[39m\u001B[38;5;124mcluster_Velocity_Dispersion\u001B[39m\u001B[38;5;124m'\u001B[39m: cluster_catalog[\u001B[38;5;124m'\u001B[39m\u001B[38;5;124mVDISP\u001B[39m\u001B[38;5;124m'\u001B[39m]\u001B[38;5;241m.\u001B[39mbyteswap()\u001B[38;5;241m.\u001B[39mnewbyteorder(),\n\u001B[1;32m     10\u001B[0m     \u001B[38;5;124m'\u001B[39m\u001B[38;5;124mVDISP_error\u001B[39m\u001B[38;5;124m'\u001B[39m: cluster_catalog[\u001B[38;5;124m'\u001B[39m\u001B[38;5;124mVDISP_ERR\u001B[39m\u001B[38;5;124m'\u001B[39m]\u001B[38;5;241m.\u001B[39mbyteswap()\u001B[38;5;241m.\u001B[39mnewbyteorder()\n\u001B[1;32m     11\u001B[0m })\n\u001B[1;32m     13\u001B[0m \u001B[38;5;66;03m# Creating the galaxy DataFrame and merging with mass data \u001B[39;00m\n\u001B[1;32m     14\u001B[0m galaxy_df \u001B[38;5;241m=\u001B[39m pd\u001B[38;5;241m.\u001B[39mDataFrame({\n\u001B[1;32m     15\u001B[0m     \u001B[38;5;124m'\u001B[39m\u001B[38;5;124muberID\u001B[39m\u001B[38;5;124m'\u001B[39m: galaxy_catalog[\u001B[38;5;124m'\u001B[39m\u001B[38;5;124muberID\u001B[39m\u001B[38;5;124m'\u001B[39m]\u001B[38;5;241m.\u001B[39mbyteswap()\u001B[38;5;241m.\u001B[39mnewbyteorder(),\n\u001B[1;32m     16\u001B[0m     \u001B[38;5;124m'\u001B[39m\u001B[38;5;124mRA\u001B[39m\u001B[38;5;124m'\u001B[39m: galaxy_catalog[\u001B[38;5;124m'\u001B[39m\u001B[38;5;124mRAcen\u001B[39m\u001B[38;5;124m'\u001B[39m]\u001B[38;5;241m.\u001B[39mbyteswap()\u001B[38;5;241m.\u001B[39mnewbyteorder(),\n\u001B[0;32m   (...)\u001B[0m\n\u001B[1;32m     19\u001B[0m     \u001B[38;5;124m'\u001B[39m\u001B[38;5;124mmstar\u001B[39m\u001B[38;5;124m'\u001B[39m: galaxy_catalog[\u001B[38;5;124m'\u001B[39m\u001B[38;5;124mmstar\u001B[39m\u001B[38;5;124m'\u001B[39m]\u001B[38;5;241m.\u001B[39mbyteswap()\u001B[38;5;241m.\u001B[39mnewbyteorder()\n\u001B[1;32m     20\u001B[0m })\n",
      "File \u001B[0;32m~/nextcloud/MasterThesis/MasterThesis/codes/jupyternotebooks/venv/lib/python3.12/site-packages/astropy/io/fits/fitsrec.py:508\u001B[0m, in \u001B[0;36mFITS_rec.__getitem__\u001B[0;34m(self, key)\u001B[0m\n\u001B[1;32m    505\u001B[0m     \u001B[38;5;28;01mreturn\u001B[39;00m \u001B[38;5;28msuper\u001B[39m()\u001B[38;5;241m.\u001B[39m\u001B[38;5;21m__getitem__\u001B[39m(key)\n\u001B[1;32m    507\u001B[0m \u001B[38;5;28;01mif\u001B[39;00m \u001B[38;5;28misinstance\u001B[39m(key, \u001B[38;5;28mstr\u001B[39m):\n\u001B[0;32m--> 508\u001B[0m     \u001B[38;5;28;01mreturn\u001B[39;00m \u001B[38;5;28;43mself\u001B[39;49m\u001B[38;5;241;43m.\u001B[39;49m\u001B[43mfield\u001B[49m\u001B[43m(\u001B[49m\u001B[43mkey\u001B[49m\u001B[43m)\u001B[49m\n\u001B[1;32m    510\u001B[0m \u001B[38;5;66;03m# Have to view as a recarray then back as a FITS_rec, otherwise the\u001B[39;00m\n\u001B[1;32m    511\u001B[0m \u001B[38;5;66;03m# circular reference fix/hack in FITS_rec.field() won't preserve\u001B[39;00m\n\u001B[1;32m    512\u001B[0m \u001B[38;5;66;03m# the slice.\u001B[39;00m\n\u001B[1;32m    513\u001B[0m out \u001B[38;5;241m=\u001B[39m \u001B[38;5;28mself\u001B[39m\u001B[38;5;241m.\u001B[39mview(np\u001B[38;5;241m.\u001B[39mrecarray)[key]\n",
      "File \u001B[0;32m~/nextcloud/MasterThesis/MasterThesis/codes/jupyternotebooks/venv/lib/python3.12/site-packages/astropy/io/fits/fitsrec.py:690\u001B[0m, in \u001B[0;36mFITS_rec.field\u001B[0;34m(self, key)\u001B[0m\n\u001B[1;32m    685\u001B[0m \u001B[38;5;250m\u001B[39m\u001B[38;5;124;03m\"\"\"\u001B[39;00m\n\u001B[1;32m    686\u001B[0m \u001B[38;5;124;03mA view of a `Column`'s data as an array.\u001B[39;00m\n\u001B[1;32m    687\u001B[0m \u001B[38;5;124;03m\"\"\"\u001B[39;00m\n\u001B[1;32m    688\u001B[0m \u001B[38;5;66;03m# NOTE: The *column* index may not be the same as the field index in\u001B[39;00m\n\u001B[1;32m    689\u001B[0m \u001B[38;5;66;03m# the recarray, if the column is a phantom column\u001B[39;00m\n\u001B[0;32m--> 690\u001B[0m column \u001B[38;5;241m=\u001B[39m \u001B[38;5;28;43mself\u001B[39;49m\u001B[38;5;241;43m.\u001B[39;49m\u001B[43mcolumns\u001B[49m\u001B[43m[\u001B[49m\u001B[43mkey\u001B[49m\u001B[43m]\u001B[49m\n\u001B[1;32m    691\u001B[0m name \u001B[38;5;241m=\u001B[39m column\u001B[38;5;241m.\u001B[39mname\n\u001B[1;32m    692\u001B[0m \u001B[38;5;28mformat\u001B[39m \u001B[38;5;241m=\u001B[39m column\u001B[38;5;241m.\u001B[39mformat\n",
      "File \u001B[0;32m~/nextcloud/MasterThesis/MasterThesis/codes/jupyternotebooks/venv/lib/python3.12/site-packages/astropy/io/fits/column.py:1754\u001B[0m, in \u001B[0;36mColDefs.__getitem__\u001B[0;34m(self, key)\u001B[0m\n\u001B[1;32m   1752\u001B[0m \u001B[38;5;28;01mdef\u001B[39;00m \u001B[38;5;21m__getitem__\u001B[39m(\u001B[38;5;28mself\u001B[39m, key):\n\u001B[1;32m   1753\u001B[0m     \u001B[38;5;28;01mif\u001B[39;00m \u001B[38;5;28misinstance\u001B[39m(key, \u001B[38;5;28mstr\u001B[39m):\n\u001B[0;32m-> 1754\u001B[0m         key \u001B[38;5;241m=\u001B[39m \u001B[43m_get_index\u001B[49m\u001B[43m(\u001B[49m\u001B[38;5;28;43mself\u001B[39;49m\u001B[38;5;241;43m.\u001B[39;49m\u001B[43mnames\u001B[49m\u001B[43m,\u001B[49m\u001B[43m \u001B[49m\u001B[43mkey\u001B[49m\u001B[43m)\u001B[49m\n\u001B[1;32m   1756\u001B[0m     x \u001B[38;5;241m=\u001B[39m \u001B[38;5;28mself\u001B[39m\u001B[38;5;241m.\u001B[39mcolumns[key]\n\u001B[1;32m   1757\u001B[0m     \u001B[38;5;28;01mif\u001B[39;00m _is_int(key):\n",
      "File \u001B[0;32m~/nextcloud/MasterThesis/MasterThesis/codes/jupyternotebooks/venv/lib/python3.12/site-packages/astropy/io/fits/column.py:2154\u001B[0m, in \u001B[0;36m_get_index\u001B[0;34m(names, key)\u001B[0m\n\u001B[1;32m   2152\u001B[0m     indx \u001B[38;5;241m=\u001B[39m names\u001B[38;5;241m.\u001B[39mindex(_key)\n\u001B[1;32m   2153\u001B[0m \u001B[38;5;28;01melif\u001B[39;00m count \u001B[38;5;241m==\u001B[39m \u001B[38;5;241m0\u001B[39m:\n\u001B[0;32m-> 2154\u001B[0m     \u001B[38;5;28;01mraise\u001B[39;00m \u001B[38;5;167;01mKeyError\u001B[39;00m(\u001B[38;5;124mf\u001B[39m\u001B[38;5;124m\"\u001B[39m\u001B[38;5;124mKey \u001B[39m\u001B[38;5;124m'\u001B[39m\u001B[38;5;132;01m{\u001B[39;00mkey\u001B[38;5;132;01m}\u001B[39;00m\u001B[38;5;124m'\u001B[39m\u001B[38;5;124m does not exist.\u001B[39m\u001B[38;5;124m\"\u001B[39m)\n\u001B[1;32m   2155\u001B[0m \u001B[38;5;28;01melse\u001B[39;00m:  \u001B[38;5;66;03m# multiple match\u001B[39;00m\n\u001B[1;32m   2156\u001B[0m     \u001B[38;5;28;01mraise\u001B[39;00m \u001B[38;5;167;01mKeyError\u001B[39;00m(\u001B[38;5;124mf\u001B[39m\u001B[38;5;124m\"\u001B[39m\u001B[38;5;124mAmbiguous key name \u001B[39m\u001B[38;5;124m'\u001B[39m\u001B[38;5;132;01m{\u001B[39;00mkey\u001B[38;5;132;01m}\u001B[39;00m\u001B[38;5;124m'\u001B[39m\u001B[38;5;124m.\u001B[39m\u001B[38;5;124m\"\u001B[39m)\n",
      "\u001B[0;31mKeyError\u001B[0m: \"Key 'R_LAMBDA' does not exist.\""
     ]
    }
   ],
   "execution_count": 5
  },
  {
   "metadata": {},
   "cell_type": "code",
   "outputs": [],
   "execution_count": null,
   "source": [
    "# match the galaxies with the clusters\n",
    "matched_galaxy_dataframe = match_galaxies_and_clusters(galaxy_dataframe=galaxy_df, cluster_dataframe=cluster_df)\n",
    "print(matched_galaxy_dataframe[matched_galaxy_dataframe['environment'] != 'Field'].head())\n",
    "print(matched_galaxy_dataframe)\n",
    "# merge the df with the completeness with the df with the galaxy environment\n",
    "merged_galaxy_df = pd.merge(completeness_region_df, matched_galaxy_dataframe, how=\"inner\", on=\"uberID\")\n",
    "print(merged_galaxy_df[merged_galaxy_df[\"environment\"] != \"Field\"])\n",
    "# get the mass histograms (galaxy mass function) and errors\n",
    "\n",
    "# get the histogram for all galaxies\n",
    "mass_histogram_all_galaxies, mass_histogram_all_galaxies_errors = get_weighted_mass_histogram(\n",
    "    input_mass_completeness_dataframe=merged_galaxy_df, region_name=\"G09\")\n",
    "\n",
    "# get the histogram for all galaxies in the field\n",
    "mass_histogram_field_only, mass_histogram_field_only_errors = get_weighted_mass_histogram(\n",
    "    input_mass_completeness_dataframe=merged_galaxy_df[merged_galaxy_df[\"environment\"] == \"Field\"], region_name=\"G09\")\n",
    "\n",
    "# get the histogram for all galaxies which are cluster members\n",
    "mass_histogram_cluster_members, mass_histogram_cluster_members_error = get_weighted_mass_histogram(\n",
    "    input_mass_completeness_dataframe=merged_galaxy_df[merged_galaxy_df[\"environment\"] == \"ClusterMember\"],\n",
    "    region_name=\"G09\")\n",
    "fig, ax = plt.subplots(figsize=(24, 16))\n",
    "\n",
    "ratio_of_field_galaxies = len(merged_galaxy_df[merged_galaxy_df[\"environment\"] == \"Field\"]) / len(merged_galaxy_df)\n",
    "ratio_of_cluster_galaxies = len(merged_galaxy_df[merged_galaxy_df[\"environment\"] == \"ClusterMember\"]) / len(\n",
    "    merged_galaxy_df)\n",
    "\n",
    "plt.errorbar(\n",
    "    MASS_BINS[:-1],\n",
    "    mass_histogram_all_galaxies,\n",
    "    yerr=mass_histogram_all_galaxies_errors,\n",
    "    label='All galaxies',\n",
    ")\n",
    "\n",
    "plt.errorbar(\n",
    "    MASS_BINS[:-1],\n",
    "    mass_histogram_field_only / ratio_of_field_galaxies,\n",
    "    yerr=mass_histogram_field_only_errors / ratio_of_field_galaxies,\n",
    "    label='Field only',\n",
    ")\n",
    "\n",
    "plt.errorbar(\n",
    "    MASS_BINS[:-1],\n",
    "    mass_histogram_cluster_members / ratio_of_cluster_galaxies,\n",
    "    yerr=mass_histogram_cluster_members_error / ratio_of_cluster_galaxies,\n",
    "    label='Cluster members',\n",
    ")\n",
    "\n",
    "plt.xscale('log')\n",
    "plt.yscale('log')\n",
    "plt.xlabel('Stellar Mass ($M_{\\odot} \\ h_{70}^{-2}$)', fontsize=16)\n",
    "plt.ylabel('Number Density ($\\mathrm{Mpc}^{-3} \\ dex^{-1} \\ h_{70}^{3}$)', fontsize=16)\n",
    "plt.xlim((1e5, 1e12))\n",
    "plt.ylim((10 ** -5.7, 1e0))\n",
    "plt.tick_params(axis='both', which='major', labelsize=14)\n",
    "plt.legend()\n",
    "ax.grid(True, which='both', linestyle='--', linewidth=0.5)\n",
    "plt.show()\n",
    "\n",
    "# Find the clusters that have galaxies among them\n",
    "unique_cluster_ids = matched_galaxy_dataframe['cluster_name'].unique()\n",
    "\n",
    "# Print the clusters and their galaxies\n",
    "cluster_galaxies = matched_galaxy_dataframe.groupby('cluster_name')['uberID'].apply(list).reset_index()\n",
    "cluster_galaxies['num_galaxies'] = cluster_galaxies['uberID'].apply(len)\n",
    "\n",
    "# Print the clusters with galaxies\n",
    "for index, row in cluster_galaxies.iterrows():\n",
    "    print(f\"Cluster {row['cluster_name']} has the following {len(row['uberID'])} galaxies within: {row['uberID']}\")\n",
    "# Find the maximum number of galaxies in a cluster\n",
    "max_galaxies_row = cluster_galaxies.loc[cluster_galaxies['num_galaxies'].idxmax()]\n",
    "print(\n",
    "    f\"Cluster {max_galaxies_row['cluster_name']} has the maximum number of galaxies: {max_galaxies_row['num_galaxies']}\")\n",
    "\n",
    "# Count the number of clusters with only one galaxy within them\n",
    "clusters_with_one_galaxy = sum(cluster_galaxies['num_galaxies'] == 1)\n",
    "print(f\"Number of clusters with only one galaxy: {clusters_with_one_galaxy}\")\n",
    "# Calculate the total number of galaxies within clusters\n",
    "total_galaxies = cluster_galaxies['num_galaxies'].sum()\n",
    "print(f\"Total number of galaxies within clusters: {total_galaxies}\")\n",
    "# Find clusters with no galaxies\n",
    "all_cluster_names = cluster_df['c_NAME'].unique()\n",
    "clusters_with_galaxies = matched_galaxy_dataframe['cluster_name'].dropna().unique()\n",
    "clusters_without_galaxies = np.setdiff1d(all_cluster_names, clusters_with_galaxies)\n",
    "\n",
    "print(len(clusters_with_galaxies))\n",
    "print(\"Clusters with no galaxies within:\", len(clusters_without_galaxies))\n",
    "for cluster_name in clusters_without_galaxies:\n",
    "    print(f\"Cluster name: {cluster_name}\")"
   ],
   "id": "ce7f7bd5359de8f0"
  }
 ],
 "metadata": {
  "kernelspec": {
   "display_name": "Python 3",
   "language": "python",
   "name": "python3"
  },
  "language_info": {
   "codemirror_mode": {
    "name": "ipython",
    "version": 2
   },
   "file_extension": ".py",
   "mimetype": "text/x-python",
   "name": "python",
   "nbconvert_exporter": "python",
   "pygments_lexer": "ipython2",
   "version": "2.7.6"
  }
 },
 "nbformat": 4,
 "nbformat_minor": 5
}
