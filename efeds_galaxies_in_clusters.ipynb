{
 "cells": [
  {
   "cell_type": "code",
   "execution_count": 1,
   "outputs": [],
   "source": [
    "import numpy as np\n",
    "import pandas as pd\n",
    "import astropy.io.fits as fits\n",
    "import healpy as hp\n",
    "from scipy import integrate\n",
    "import matplotlib.pyplot as plt\n",
    "from astropy.cosmology import Planck15 as cosmo\n",
    "from scipy.interpolate import interp1d\n",
    "from scipy.optimize import curve_fit\n",
    "from completeness import create_completeness_dataframe"
   ],
   "metadata": {
    "collapsed": false
   }
  },
  {
   "cell_type": "code",
   "execution_count": 19,
   "outputs": [],
   "source": [
    "gkvInputCatv02_raw = fits.open('/home/farnoosh/farnoosh/Master_Thesis_all/Data/GAMA/gkvInputCatv02/gkvInputCatv02.fits')[1].data\n",
    "SM_cat_raw = fits.open('/home/farnoosh/farnoosh/Master_Thesis_all/Data/GAMA/merged/StellarMass-gkvScience/mergedStellarMass-gkvScience')[1].data\n",
    "efeds_raw = fits.open('/home/farnoosh/farnoosh/Master_Thesis_all/Data/eFEDS/cluster_catalogue_Liu/eFEDS_clusters_V3.2.fits')[1].data\n",
    "vdisp, vdisp_err = np.genfromtxt('/home/farnoosh/Desktop/data/vdisp.ascii', skip_header=1, usecols=(8, 9), missing_values='--', filling_values=np.nan, unpack=True)"
   ],
   "metadata": {
    "collapsed": false
   }
  },
  {
   "cell_type": "code",
   "execution_count": null,
   "outputs": [],
   "source": [
    "\"\"\" efeds\n",
    "    RA: 126.6108 , 145.0307\n",
    "    DEC: -2.56405 , 5.70157\n",
    "            \"\"\""
   ],
   "metadata": {
    "collapsed": false
   }
  },
  {
   "cell_type": "code",
   "execution_count": 3,
   "outputs": [
    {
     "name": "stdout",
     "output_type": "stream",
     "text": [
      "number of the galaxies:  36801\n"
     ]
    }
   ],
   "source": [
    "galaxy_mask = (\n",
    "         (SM_cat_raw['uberclass'] == 1 ) & #galaxy\n",
    "         (SM_cat_raw['duplicate'] == False) &\n",
    "         (SM_cat_raw['mask'] == False) &\n",
    "         (SM_cat_raw['NQ'] > 2) &\n",
    "         (SM_cat_raw['SC'] > 7) &\n",
    "         (SM_cat_raw['mstar'] > 0) &\n",
    "         (SM_cat_raw['RAcen'] > 126.5) &\n",
    "         (SM_cat_raw['RAcen'] < 145.1) &\n",
    "         (SM_cat_raw['Deccen'] > -2.6) &\n",
    "         (SM_cat_raw['Deccen'] < 5.8) &\n",
    "         (SM_cat_raw['Z'] < 1.31) &\n",
    "         (SM_cat_raw['starmask'] == False)\n",
    ")\n",
    "galaxy_catalog = SM_cat_raw[galaxy_mask]\n",
    "print('number of the galaxies: ',len(galaxy_catalog))"
   ],
   "metadata": {
    "collapsed": false
   }
  },
  {
   "cell_type": "code",
   "execution_count": 4,
   "outputs": [],
   "source": [
    "H0 = 70\n",
    "c = 3e5\n",
    "arcmin_to_rad = np.pi / 180 / 60"
   ],
   "metadata": {
    "collapsed": false
   }
  },
  {
   "cell_type": "code",
   "execution_count": 5,
   "outputs": [],
   "source": [
    "def distance_from_redshift(z):\n",
    "    return c * z / H0\n",
    "\n",
    "def cluster_volume(cluster_radius_Mpc):\n",
    "    return (4/3) * np.pi * cluster_radius_Mpc**3\n",
    "\n",
    "# calculate distance between two points given their coordinates\n",
    "def angular_distance(RA1, DEC1, RA2, DEC2):\n",
    "    ra_diff = np.radians(RA2 - RA1)\n",
    "    dec_diff = np.radians(DEC2 - DEC1)\n",
    "    a = np.sin(dec_diff / 2)**2 + np.cos(np.radians(DEC1)) * np.cos(np.radians(DEC2)) * np.sin(ra_diff / 2)**2\n",
    "    c = 2 * np.arctan2(np.sqrt(a), np.sqrt(1 - a))\n",
    "    return c\n",
    "\n",
    "def compute_velocity_dispersion(recession_velocity):\n",
    "    mean_velocity = np.mean(recession_velocity)\n",
    "    velocity_differences = recession_velocity - mean_velocity\n",
    "    sum_of_squared_differences = np.sum(velocity_differences**2)\n",
    "    variance = sum_of_squared_differences / (len(recession_velocity) - 1)\n",
    "    velocity_dispersion = np.sqrt(variance)\n",
    "    return velocity_dispersion\n",
    "\n",
    "def galaxies_within_clusters(galaxy_df, cluster_df):\n",
    "    in_cluster_radius = np.zeros(len(galaxy_df), dtype=bool)\n",
    "    galaxy_cluster_id = np.zeros(len(galaxy_df), dtype=int)\n",
    "    galaxy_velocities = []\n",
    "\n",
    "    for i, galaxy_row in galaxy_df.iterrows():\n",
    "        galaxy_ra = galaxy_row['RA']\n",
    "        galaxy_dec = galaxy_row['DEC']\n",
    "        galaxy_z = galaxy_row['z']\n",
    "        min_angular_sep = np.inf\n",
    "        closest_cluster_id = -1\n",
    "        recession_velocity = []\n",
    "\n",
    "        for j, cluster_row in cluster_df.iterrows():\n",
    "            cluster_ra = cluster_row['RA']\n",
    "            cluster_dec = cluster_row['DEC']\n",
    "            cluster_radius_rad = cluster_row['cluster_radius']\n",
    "            cluster_z_border_min = cluster_row['z_border_min']\n",
    "            cluster_z_border_max = cluster_row['z_border_max']\n",
    "\n",
    "            if galaxy_z < cluster_z_border_min or galaxy_z > cluster_z_border_max:\n",
    "                continue\n",
    "\n",
    "            cos_angular_sep = np.sin(np.radians(galaxy_dec)) * np.sin(np.radians(cluster_dec)) \\\n",
    "                            + np.cos(np.radians(galaxy_dec)) * np.cos(np.radians(cluster_dec)) \\\n",
    "                            * np.cos(np.radians(galaxy_ra - cluster_ra))\n",
    "            angular_sep_rad = np.arccos(cos_angular_sep)\n",
    "\n",
    "            physical_sep_Mpc = angular_sep_rad * cluster_row['distance_Mpc']\n",
    "\n",
    "            # Calculate the recession velocity of the galaxy from the cluster\n",
    "            recession_velocity.append(H0 * physical_sep_Mpc)\n",
    "\n",
    "            # Check if galaxy is within cluster radius and closest to the cluster\n",
    "            if angular_sep_rad <= cluster_radius_rad and angular_sep_rad < min_angular_sep:\n",
    "                min_angular_sep = angular_sep_rad\n",
    "                closest_cluster_id = cluster_row['c_ID']\n",
    "\n",
    "        # Update the flags and cluster IDs\n",
    "        if closest_cluster_id != -1:\n",
    "            in_cluster_radius[i] = True\n",
    "            galaxy_cluster_id[i] = closest_cluster_id\n",
    "            galaxy_velocities.extend(recession_velocity)\n",
    "\n",
    "    velocity_dispersion = compute_velocity_dispersion(np.array(galaxy_velocities))\n",
    "    return in_cluster_radius, galaxy_cluster_id, velocity_dispersion\n"
   ],
   "metadata": {
    "collapsed": false
   }
  },
  {
   "cell_type": "code",
   "execution_count": 21,
   "outputs": [],
   "source": [
    "cluster_df = pd.DataFrame()\n",
    "cluster_df['z'] = efeds_raw['z'].byteswap().newbyteorder()\n",
    "cluster_df['RA'] = (efeds_raw['RA']).byteswap().newbyteorder()    # degrees\n",
    "cluster_df['DEC'] = (efeds_raw['DEC']).byteswap().newbyteorder()   # degrees\n",
    "cluster_df['c_ID'] = efeds_raw['ID_SRC'].byteswap().newbyteorder()\n",
    "cluster_df['distance_Mpc'] = distance_from_redshift(cluster_df['z'])\n",
    "cluster_df['cluster_radius'] = (efeds_raw['R_SNR_MAX'] * arcmin_to_rad).byteswap().newbyteorder() # radian\n",
    "cluster_df['cluster_radius_Mpc'] = cluster_df['distance_Mpc'] * np.tan(cluster_df['cluster_radius'])\n",
    "cluster_df['cluster_volume_Mpc3'] = cluster_volume(cluster_df['cluster_radius_Mpc'])\n",
    "vdisp_df = pd.DataFrame({'VDISP': vdisp})\n",
    "vdisp_err_df = pd.DataFrame({'VDISP_ERR': vdisp_err})\n",
    "cluster_df = pd.concat([cluster_df, vdisp_df, vdisp_err_df], axis=1)"
   ],
   "metadata": {
    "collapsed": false
   }
  },
  {
   "cell_type": "code",
   "execution_count": 25,
   "outputs": [
    {
     "name": "stdout",
     "output_type": "stream",
     "text": [
      "Number of NaN values in 'VDISP' column: 260\n",
      "47.97047970479705\n"
     ]
    }
   ],
   "source": [
    "# Count the number of NaN values in the 'VDISP' column\n",
    "nan_count = cluster_df['VDISP'].isna().sum()\n",
    "\n",
    "# Print the count of NaN values\n",
    "print(\"Number of NaN values in 'VDISP' column:\", nan_count)\n",
    "print(100*nan_count/542)"
   ],
   "metadata": {
    "collapsed": false
   }
  },
  {
   "cell_type": "code",
   "execution_count": 7,
   "outputs": [],
   "source": [
    "galaxy_df = pd.DataFrame()\n",
    "galaxy_df['z'] = galaxy_catalog['Z'].byteswap().newbyteorder()\n",
    "galaxy_df['RA'] = galaxy_catalog['RAcen'].byteswap().newbyteorder()  #degrees\n",
    "galaxy_df['DEC'] = galaxy_catalog['Deccen'].byteswap().newbyteorder()    #degrees\n",
    "galaxy_df['g_ID'] = galaxy_catalog['uberID'].byteswap().newbyteorder()"
   ],
   "metadata": {
    "collapsed": false
   }
  },
  {
   "cell_type": "code",
   "execution_count": 20,
   "outputs": [],
   "source": [
    "# Calculate the redshift at the border\n",
    "z_border_min = cluster_df['z'] - (cluster_df['cluster_radius_Mpc'] / cluster_df['distance_Mpc']) + 0.1 * (cluster_df['cluster_radius_Mpc'] / cluster_df['distance_Mpc'])\n",
    "z_border_max = cluster_df['z'] + (cluster_df['cluster_radius_Mpc'] / cluster_df['distance_Mpc']) + 0.1 * (cluster_df['cluster_radius_Mpc'] / cluster_df['distance_Mpc'])\n",
    "cluster_df['z_border_min'] = z_border_min\n",
    "cluster_df['z_border_max'] = z_border_max"
   ],
   "metadata": {
    "collapsed": false
   }
  },
  {
   "cell_type": "code",
   "execution_count": 9,
   "outputs": [],
   "source": [
    "in_cluster_radius, galaxy_cluster_id, velocity_dispersion = galaxies_within_clusters(galaxy_df, cluster_df)"
   ],
   "metadata": {
    "collapsed": false
   }
  },
  {
   "cell_type": "code",
   "execution_count": 10,
   "outputs": [],
   "source": [
    "# Add the 'in_cluster_radius' and 'cluster_id' columns to the galaxy dataframe\n",
    "galaxy_df['in_cluster_radius'] = in_cluster_radius\n",
    "galaxy_df['cluster_id'] = galaxy_cluster_id"
   ],
   "metadata": {
    "collapsed": false
   }
  },
  {
   "cell_type": "code",
   "execution_count": 11,
   "outputs": [],
   "source": [
    "# Group galaxies by cluster ID and aggregate their IDs into a list\n",
    "galaxies_per_cluster_with_ids = galaxy_df[galaxy_df['in_cluster_radius']].groupby('cluster_id')['g_ID'].agg(list)"
   ],
   "metadata": {
    "collapsed": false
   }
  },
  {
   "cell_type": "code",
   "execution_count": 12,
   "outputs": [
    {
     "name": "stdout",
     "output_type": "stream",
     "text": [
      "Cluster ID 150: Number of galaxies = 1 with IDs of: 140010609901292\n",
      "Cluster ID 152: Number of galaxies = 1 with IDs of: 135020664511413\n",
      "Cluster ID 197: Number of galaxies = 1 with IDs of: 129020809511497\n",
      "Cluster ID 298: Number of galaxies = 1 with IDs of: 140980622605907\n",
      "Cluster ID 328: Number of galaxies = 8 with IDs of: 134000965407655, 134000981307856, 134000988507709, 134000995908028, 134000997207858, 134001014807824, 134000986307738, 134001037007521\n",
      "Cluster ID 356: Number of galaxies = 2 with IDs of: 129980747104443, 129980747104360\n",
      "Cluster ID 489: Number of galaxies = 4 with IDs of: 140020824108892, 140020828308716, 140020838909058, 140020851208733\n",
      "Cluster ID 510: Number of galaxies = 1 with IDs of: 138001001609916\n",
      "Cluster ID 534: Number of galaxies = 3 with IDs of: 138990590607637, 138990592407066, 138990553306987\n",
      "Cluster ID 736: Number of galaxies = 1 with IDs of: 129020244401050\n",
      "Cluster ID 810: Number of galaxies = 1 with IDs of: 140010179511440\n",
      "Cluster ID 857: Number of galaxies = 1 with IDs of: 139990063706206\n",
      "Cluster ID 885: Number of galaxies = 1 with IDs of: 136990329009463\n",
      "Cluster ID 940: Number of galaxies = 1 with IDs of: 138020523110997\n",
      "Cluster ID 994: Number of galaxies = 2 with IDs of: 139020291303019, 139020321903100\n",
      "Cluster ID 1023: Number of galaxies = 5 with IDs of: 133000999803360, 133001003003814, 133001018003566, 133001045703679, 133001050103774\n",
      "Cluster ID 1039: Number of galaxies = 2 with IDs of: 131020638105939, 131020663706032\n",
      "Cluster ID 1104: Number of galaxies = 2 with IDs of: 134980235604733, 134980202205012\n",
      "Cluster ID 1294: Number of galaxies = 1 with IDs of: 133991042409581\n",
      "Cluster ID 1319: Number of galaxies = 2 with IDs of: 137990122903412, 137990154403534\n",
      "Cluster ID 1376: Number of galaxies = 1 with IDs of: 132980386704980\n",
      "Cluster ID 1465: Number of galaxies = 3 with IDs of: 139011091707690, 139011136907658, 139011175007582\n",
      "Cluster ID 1526: Number of galaxies = 1 with IDs of: 139000254411756\n",
      "Cluster ID 1607: Number of galaxies = 1 with IDs of: 131010343905580\n",
      "Cluster ID 1652: Number of galaxies = 2 with IDs of: 134980451610220, 134980459210231\n",
      "Cluster ID 1812: Number of galaxies = 1 with IDs of: 131000544912228\n",
      "Cluster ID 1915: Number of galaxies = 1 with IDs of: 140000413705874\n",
      "Cluster ID 2074: Number of galaxies = 2 with IDs of: 137010645706887, 137010670606836\n",
      "Cluster ID 2079: Number of galaxies = 1 with IDs of: 133980928807648\n",
      "Cluster ID 2214: Number of galaxies = 5 with IDs of: 130990156606252, 130990162106204, 130990180906084, 131991214406286, 131991218706348\n",
      "Cluster ID 2234: Number of galaxies = 1 with IDs of: 137010604811635\n",
      "Cluster ID 2388: Number of galaxies = 1 with IDs of: 130021017411398\n",
      "Cluster ID 2412: Number of galaxies = 2 with IDs of: 134980198607830, 135981206407495\n",
      "Cluster ID 2524: Number of galaxies = 1 with IDs of: 133000486105351\n",
      "Cluster ID 2680: Number of galaxies = 1 with IDs of: 136980772509438\n",
      "Cluster ID 2757: Number of galaxies = 2 with IDs of: 135010873202136, 135010899302091\n",
      "Cluster ID 2832: Number of galaxies = 2 with IDs of: 130000689012299, 130000701712294\n",
      "Cluster ID 3128: Number of galaxies = 6 with IDs of: 134010287803615, 134010330403529, 134010332303646, 134010335903387, 134010338903305, 134010344903483\n",
      "Cluster ID 3133: Number of galaxies = 5 with IDs of: 140990970107270, 140990979207427, 140990989707185, 140990998607344, 140991015106849\n",
      "Cluster ID 3159: Number of galaxies = 1 with IDs of: 138020381805788\n",
      "Cluster ID 3259: Number of galaxies = 5 with IDs of: 136991146811491, 137001147801055, 135990065712014, 136991155411864, 136000081001115\n",
      "Cluster ID 3270: Number of galaxies = 2 with IDs of: 130021044605320, 130021052405369\n",
      "Cluster ID 3295: Number of galaxies = 2 with IDs of: 131011053507689, 131011059807689\n",
      "Cluster ID 3315: Number of galaxies = 1 with IDs of: 129020250506017\n",
      "Cluster ID 3336: Number of galaxies = 3 with IDs of: 131000861605870, 131000868105860, 131000877106087\n",
      "Cluster ID 3541: Number of galaxies = 3 with IDs of: 131020897903865, 131020902504035, 131020908204018\n",
      "Cluster ID 3556: Number of galaxies = 1 with IDs of: 133010910800172\n",
      "Cluster ID 3706: Number of galaxies = 1 with IDs of: 129990126505395\n",
      "Cluster ID 3800: Number of galaxies = 2 with IDs of: 135020510605062, 135020514405102\n",
      "Cluster ID 3905: Number of galaxies = 1 with IDs of: 129020360402063\n",
      "Cluster ID 3984: Number of galaxies = 1 with IDs of: 136980567302987\n",
      "Cluster ID 4070: Number of galaxies = 4 with IDs of: 134010042802785, 134010025402331, 135011099702614, 135011128502519\n",
      "Cluster ID 4105: Number of galaxies = 2 with IDs of: 139020268403567, 139020275303557\n",
      "Cluster ID 4168: Number of galaxies = 2 with IDs of: 139990197108940, 139990212208862\n",
      "Cluster ID 4181: Number of galaxies = 2 with IDs of: 135020611603881, 135020633303920\n",
      "Cluster ID 4232: Number of galaxies = 1 with IDs of: 134980155504713\n",
      "Cluster ID 4297: Number of galaxies = 2 with IDs of: 134980991010095, 134981037910393\n",
      "Cluster ID 4436: Number of galaxies = 1 with IDs of: 131010402500892\n",
      "Cluster ID 4511: Number of galaxies = 3 with IDs of: 129010069910840, 129010075510905, 129010079810960\n",
      "Cluster ID 4861: Number of galaxies = 1 with IDs of: 130990950510030\n",
      "Cluster ID 5386: Number of galaxies = 1 with IDs of: 128990089605010\n",
      "Cluster ID 5477: Number of galaxies = 1 with IDs of: 133000446006657\n",
      "Cluster ID 5591: Number of galaxies = 1 with IDs of: 130000207605494\n",
      "Cluster ID 5639: Number of galaxies = 1 with IDs of: 130020962601329\n",
      "Cluster ID 5655: Number of galaxies = 5 with IDs of: 136010886709006, 136010895208980, 136010902409104, 136010904609167, 136010903609128\n",
      "Cluster ID 5697: Number of galaxies = 4 with IDs of: 134020883603447, 134020929303217, 134020928903307, 134020933103346\n",
      "Cluster ID 5739: Number of galaxies = 3 with IDs of: 139980458308841, 139980460908637, 139980460508900\n",
      "Cluster ID 5772: Number of galaxies = 1 with IDs of: 136980281401638\n",
      "Cluster ID 6003: Number of galaxies = 2 with IDs of: 132990232907728, 132990245007897\n",
      "Cluster ID 6026: Number of galaxies = 1 with IDs of: 129980892302550\n",
      "Cluster ID 6125: Number of galaxies = 7 with IDs of: 133000968706577, 133001011107047, 133001012506819, 133001013306836, 133001019107073, 133001029607236, 133001012606808\n",
      "Cluster ID 6129: Number of galaxies = 2 with IDs of: 138980564001240, 138980564101170\n",
      "Cluster ID 6215: Number of galaxies = 6 with IDs of: 132010902210017, 132010903310069, 132010946609709, 132010949409610, 132010954709633, 132010994509967\n",
      "Cluster ID 6605: Number of galaxies = 1 with IDs of: 130000246809130\n",
      "Cluster ID 6636: Number of galaxies = 3 with IDs of: 133010594004704, 133010616204857, 133010615904843\n",
      "Cluster ID 6669: Number of galaxies = 1 with IDs of: 140000447309278\n",
      "Cluster ID 6746: Number of galaxies = 1 with IDs of: 134010808307108\n",
      "Cluster ID 7194: Number of galaxies = 3 with IDs of: 139020237109596, 139020238909652, 139020282409653\n",
      "Cluster ID 7217: Number of galaxies = 2 with IDs of: 129980615705766, 129980620905931\n",
      "Cluster ID 7445: Number of galaxies = 1 with IDs of: 129980866708905\n",
      "Cluster ID 7652: Number of galaxies = 1 with IDs of: 130010716109108\n",
      "Cluster ID 7662: Number of galaxies = 1 with IDs of: 130010396508224\n",
      "Cluster ID 7735: Number of galaxies = 3 with IDs of: 138020396306112, 138020397305517, 138020407905914\n",
      "Cluster ID 7831: Number of galaxies = 1 with IDs of: 132020755903486\n",
      "Cluster ID 8352: Number of galaxies = 1 with IDs of: 139010404810695\n",
      "Cluster ID 8433: Number of galaxies = 1 with IDs of: 130000188405908\n",
      "Cluster ID 8602: Number of galaxies = 16 with IDs of: 132000006003287, 133000992203903, 133001010704081, 133001016303369, 133001018404091, 133001018704302, 133001024504357, 133001029603135, 133001030303712, 133001044503648, 133001053503742, 133001054503686, 133001058003977, 133001059303994, 133001089304003, 133001035203951\n",
      "Cluster ID 8679: Number of galaxies = 1 with IDs of: 133010919010312\n",
      "Cluster ID 8826: Number of galaxies = 6 with IDs of: 134000541805544, 134000554305518, 134000616605397, 134000625905350, 134000548005335, 134000617205329\n",
      "Cluster ID 8881: Number of galaxies = 1 with IDs of: 135000280009950\n",
      "Cluster ID 9213: Number of galaxies = 3 with IDs of: 133020587105126, 133020602905144, 133020622305351\n",
      "Cluster ID 9310: Number of galaxies = 3 with IDs of: 134990368006516, 134990389406418, 134990395206359\n",
      "Cluster ID 9976: Number of galaxies = 2 with IDs of: 139010141109437, 139010149809486\n",
      "Cluster ID 10870: Number of galaxies = 1 with IDs of: 134980206810507\n",
      "Cluster ID 10878: Number of galaxies = 3 with IDs of: 135020993807517, 135020996607446, 135020999307374\n",
      "Cluster ID 10976: Number of galaxies = 1 with IDs of: 136980707910352\n",
      "Cluster ID 11018: Number of galaxies = 1 with IDs of: 132000937309722\n",
      "Cluster ID 11156: Number of galaxies = 1 with IDs of: 133010790705984\n",
      "Cluster ID 11530: Number of galaxies = 1 with IDs of: 140990672702101\n",
      "Cluster ID 11717: Number of galaxies = 2 with IDs of: 134991137004252, 134991139204335\n",
      "Cluster ID 11836: Number of galaxies = 1 with IDs of: 134980327107054\n",
      "Cluster ID 12407: Number of galaxies = 1 with IDs of: 129980806004077\n",
      "Cluster ID 12839: Number of galaxies = 1 with IDs of: 131010680602392\n",
      "Cluster ID 13490: Number of galaxies = 1 with IDs of: 131020377109214\n",
      "Cluster ID 13537: Number of galaxies = 1 with IDs of: 138980805511640\n",
      "Cluster ID 15548: Number of galaxies = 1 with IDs of: 136980542106076\n",
      "Cluster ID 16471: Number of galaxies = 2 with IDs of: 129020789011021, 129020830411303\n",
      "Cluster ID 18040: Number of galaxies = 1 with IDs of: 138020994005151\n",
      "Cluster ID 18194: Number of galaxies = 2 with IDs of: 140020815802957, 140020811002689\n",
      "Cluster ID 19692: Number of galaxies = 8 with IDs of: 129000055105755, 129000062305810, 130001069205507, 130001073105548, 130001120905807, 129000029704986, 130001116905236, 130001121905202\n",
      "Cluster ID 23313: Number of galaxies = 6 with IDs of: 134010755910116, 134010757809438, 134010767509576, 134010778509571, 134010787009445, 134010787209452\n",
      "Cluster ID 32576: Number of galaxies = 1 with IDs of: 134000513709180\n",
      "Cluster ID 32680: Number of galaxies = 2 with IDs of: 132010216508557, 132010211108860\n"
     ]
    }
   ],
   "source": [
    "# Print the number of galaxies associated with each cluster along with their IDs\n",
    "for cluster_id, galaxy_ids in galaxies_per_cluster_with_ids.items():\n",
    "    num_galaxies = len(galaxy_ids)\n",
    "    galaxy_ids_str = ', '.join([str(galaxy_id) for galaxy_id in galaxy_ids])\n",
    "    print(f\"Cluster ID {cluster_id}: Number of galaxies = {num_galaxies} with IDs of: {galaxy_ids_str}\")\n"
   ],
   "metadata": {
    "collapsed": false
   }
  },
  {
   "cell_type": "code",
   "execution_count": 17,
   "outputs": [
    {
     "name": "stdout",
     "output_type": "stream",
     "text": [
      "            z          RA       DEC   c_ID  distance_Mpc  cluster_radius  \\\n",
      "0    0.161110  126.610799 -0.574787  28993    690.471429        0.000233   \n",
      "1    0.257160  126.965471 -0.481638  11248   1102.114286        0.000215   \n",
      "2    0.076155  127.036645 -0.167715   4800    326.378571        0.000765   \n",
      "3    0.844900  127.085556 -0.122752   4169   3621.000000        0.000427   \n",
      "4    0.319705  127.169202 -0.083552   7991   1370.164286        0.000389   \n",
      "..        ...         ...       ...    ...           ...             ...   \n",
      "537  0.024000  144.434057  2.760046   3372    102.857144        0.000362   \n",
      "538  0.262250  144.627172  4.256396  10322   1123.928571        0.000751   \n",
      "539  0.368715  144.909596  4.371716   1594   1580.207143        0.000482   \n",
      "540  0.469977  145.024593  3.224726   4689   2014.187106        0.000273   \n",
      "541  0.666382  145.030728  3.965204  11337   2855.922857        0.000336   \n",
      "\n",
      "     cluster_radius_Mpc  cluster_volume_Mpc3  z_border_min  z_border_max  \\\n",
      "0              0.160901             0.017449      0.160900      0.161366   \n",
      "1              0.237014             0.055771      0.256966      0.257397   \n",
      "2              0.249805             0.065297      0.075466      0.076997   \n",
      "3              1.544884            15.444595      0.844516      0.845369   \n",
      "4              0.533598             0.636403      0.319355      0.320133   \n",
      "..                  ...                  ...           ...           ...   \n",
      "537            0.037283             0.000217      0.023674      0.024399   \n",
      "538            0.843990             2.518255      0.261574      0.263076   \n",
      "539            0.762122             1.854226      0.368281      0.369246   \n",
      "540            0.548991             0.693083      0.469732      0.470277   \n",
      "541            0.958275             3.686033      0.666080      0.666751   \n",
      "\n",
      "      VDISP  VDISP_ERR  \n",
      "0       NaN        NaN  \n",
      "1       NaN        NaN  \n",
      "2      18.0        7.0  \n",
      "3       NaN        NaN  \n",
      "4     848.0     1657.0  \n",
      "..      ...        ...  \n",
      "537     NaN        NaN  \n",
      "538   227.0       86.0  \n",
      "539  1392.0      822.0  \n",
      "540     NaN        NaN  \n",
      "541     NaN        NaN  \n",
      "\n",
      "[542 rows x 12 columns]\n"
     ]
    }
   ],
   "source": [
    "vdisp, vdisp_err = np.genfromtxt('/home/farnoosh/Desktop/data/vdisp.ascii', skip_header=1, usecols=(8, 9), missing_values='--', filling_values=np.nan, unpack=True)\n",
    "\n",
    "vdisp_df = pd.DataFrame({'VDISP': vdisp})\n",
    "vdisp_err_df = pd.DataFrame({'VDISP_ERR': vdisp_err})\n",
    "cluster_df = pd.concat([cluster_df, vdisp_df, vdisp_err_df], axis=1)"
   ],
   "metadata": {
    "collapsed": false
   }
  },
  {
   "cell_type": "code",
   "execution_count": null,
   "outputs": [],
   "source": [],
   "metadata": {
    "collapsed": false
   }
  }
 ],
 "metadata": {
  "kernelspec": {
   "display_name": "Python 3",
   "language": "python",
   "name": "python3"
  },
  "language_info": {
   "codemirror_mode": {
    "name": "ipython",
    "version": 2
   },
   "file_extension": ".py",
   "mimetype": "text/x-python",
   "name": "python",
   "nbconvert_exporter": "python",
   "pygments_lexer": "ipython2",
   "version": "2.7.6"
  }
 },
 "nbformat": 4,
 "nbformat_minor": 0
}
